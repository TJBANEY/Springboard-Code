{
 "cells": [
  {
   "cell_type": "markdown",
   "metadata": {},
   "source": [
    "## Import Libraries"
   ]
  },
  {
   "cell_type": "code",
   "execution_count": 217,
   "metadata": {
    "collapsed": true
   },
   "outputs": [],
   "source": [
    "import pandas as pd\n",
    "import math\n",
    "import numpy as np"
   ]
  },
  {
   "cell_type": "code",
   "execution_count": 218,
   "metadata": {
    "collapsed": false
   },
   "outputs": [],
   "source": [
    "age_gender = pd.read_csv('data/age_gender_bkts.csv')\n",
    "countries = pd.read_csv('data/countries.csv')\n",
    "users = pd.read_csv('data/train_users_2.csv')"
   ]
  },
  {
   "cell_type": "markdown",
   "metadata": {},
   "source": [
    "## Sessions CSV is very large, and requires a lot of memory to read, so we read it in through chunks, and append the chunks to a list to later be used by pandas to create a dataframe."
   ]
  },
  {
   "cell_type": "code",
   "execution_count": 219,
   "metadata": {
    "collapsed": false
   },
   "outputs": [],
   "source": [
    "session_list = []\n",
    "\n",
    "for chunk in pd.read_csv('data/sessions.csv', chunksize=10000):\n",
    "    session_list.append(chunk)\n",
    "    \n",
    "sessions = pd.concat(session_list)"
   ]
  },
  {
   "cell_type": "markdown",
   "metadata": {},
   "source": [
    "# Begin doing very basic exploration of data, as well as seeing what values are null or missing"
   ]
  },
  {
   "cell_type": "markdown",
   "metadata": {},
   "source": [
    "## Sessions"
   ]
  },
  {
   "cell_type": "code",
   "execution_count": 242,
   "metadata": {
    "collapsed": false,
    "scrolled": false
   },
   "outputs": [],
   "source": [
    "sessions.head(1)\n",
    "\n",
    "sessions = sessions.dropna(how='any')"
   ]
  },
  {
   "cell_type": "code",
   "execution_count": 243,
   "metadata": {
    "collapsed": false
   },
   "outputs": [
    {
     "data": {
      "text/plain": [
       "user_id          False\n",
       "action           False\n",
       "action_type      False\n",
       "action_detail    False\n",
       "device_type      False\n",
       "secs_elapsed     False\n",
       "dtype: bool"
      ]
     },
     "execution_count": 243,
     "metadata": {},
     "output_type": "execute_result"
    }
   ],
   "source": [
    "sessions.isnull().any()"
   ]
  },
  {
   "cell_type": "markdown",
   "metadata": {},
   "source": [
    "## Age/Gender Country Buckets"
   ]
  },
  {
   "cell_type": "code",
   "execution_count": 244,
   "metadata": {
    "collapsed": false,
    "scrolled": false
   },
   "outputs": [
    {
     "data": {
      "text/html": [
       "<div>\n",
       "<table border=\"1\" class=\"dataframe\">\n",
       "  <thead>\n",
       "    <tr style=\"text-align: right;\">\n",
       "      <th></th>\n",
       "      <th>age_bucket</th>\n",
       "      <th>country_destination</th>\n",
       "      <th>gender</th>\n",
       "      <th>population_in_thousands</th>\n",
       "      <th>year</th>\n",
       "      <th>age_list</th>\n",
       "    </tr>\n",
       "  </thead>\n",
       "  <tbody>\n",
       "    <tr>\n",
       "      <th>0</th>\n",
       "      <td>100+</td>\n",
       "      <td>AU</td>\n",
       "      <td>male</td>\n",
       "      <td>1.0</td>\n",
       "      <td>2015.0</td>\n",
       "      <td>[100]</td>\n",
       "    </tr>\n",
       "  </tbody>\n",
       "</table>\n",
       "</div>"
      ],
      "text/plain": [
       "  age_bucket country_destination gender  population_in_thousands    year  \\\n",
       "0       100+                  AU   male                      1.0  2015.0   \n",
       "\n",
       "  age_list  \n",
       "0    [100]  "
      ]
     },
     "execution_count": 244,
     "metadata": {},
     "output_type": "execute_result"
    }
   ],
   "source": [
    "age_gender.head(1)"
   ]
  },
  {
   "cell_type": "code",
   "execution_count": 245,
   "metadata": {
    "collapsed": false
   },
   "outputs": [
    {
     "data": {
      "text/plain": [
       "age_bucket                 False\n",
       "country_destination        False\n",
       "gender                     False\n",
       "population_in_thousands    False\n",
       "year                       False\n",
       "age_list                   False\n",
       "dtype: bool"
      ]
     },
     "execution_count": 245,
     "metadata": {},
     "output_type": "execute_result"
    }
   ],
   "source": [
    "age_gender.isnull().any()"
   ]
  },
  {
   "cell_type": "markdown",
   "metadata": {},
   "source": [
    "## Countries"
   ]
  },
  {
   "cell_type": "code",
   "execution_count": 246,
   "metadata": {
    "collapsed": false,
    "scrolled": true
   },
   "outputs": [
    {
     "data": {
      "text/html": [
       "<div>\n",
       "<table border=\"1\" class=\"dataframe\">\n",
       "  <thead>\n",
       "    <tr style=\"text-align: right;\">\n",
       "      <th></th>\n",
       "      <th>country_destination</th>\n",
       "      <th>lat_destination</th>\n",
       "      <th>lng_destination</th>\n",
       "      <th>distance_km</th>\n",
       "      <th>destination_km2</th>\n",
       "      <th>destination_language</th>\n",
       "      <th>language_levenshtein_distance</th>\n",
       "    </tr>\n",
       "  </thead>\n",
       "  <tbody>\n",
       "    <tr>\n",
       "      <th>0</th>\n",
       "      <td>AU</td>\n",
       "      <td>-26.853388</td>\n",
       "      <td>133.27516</td>\n",
       "      <td>15297.744</td>\n",
       "      <td>7741220.0</td>\n",
       "      <td>eng</td>\n",
       "      <td>0.0</td>\n",
       "    </tr>\n",
       "  </tbody>\n",
       "</table>\n",
       "</div>"
      ],
      "text/plain": [
       "  country_destination  lat_destination  lng_destination  distance_km  \\\n",
       "0                  AU       -26.853388        133.27516    15297.744   \n",
       "\n",
       "   destination_km2 destination_language   language_levenshtein_distance  \n",
       "0        7741220.0                   eng                            0.0  "
      ]
     },
     "execution_count": 246,
     "metadata": {},
     "output_type": "execute_result"
    }
   ],
   "source": [
    "countries.head(1)"
   ]
  },
  {
   "cell_type": "code",
   "execution_count": 247,
   "metadata": {
    "collapsed": false
   },
   "outputs": [
    {
     "data": {
      "text/plain": [
       "country_destination              False\n",
       "lat_destination                  False\n",
       "lng_destination                  False\n",
       "distance_km                      False\n",
       "destination_km2                  False\n",
       "destination_language             False\n",
       "language_levenshtein_distance    False\n",
       "dtype: bool"
      ]
     },
     "execution_count": 247,
     "metadata": {},
     "output_type": "execute_result"
    }
   ],
   "source": [
    "countries.isnull().any()"
   ]
  },
  {
   "cell_type": "markdown",
   "metadata": {},
   "source": [
    "## Users"
   ]
  },
  {
   "cell_type": "code",
   "execution_count": 269,
   "metadata": {
    "collapsed": false,
    "scrolled": true
   },
   "outputs": [],
   "source": [
    "users.head(100)\n",
    "users.id.count()\n",
    "# 213451\n",
    "\n",
    "users = users.loc[users['country_destination'] != 'NDF']\n",
    "# 88908\n",
    "\n",
    "avg_age = math.ceil(user_and_country['age'].mean())\n",
    "\n",
    "def avgAge(row):\n",
    "    if row['age'] > 120:\n",
    "        return avg_age\n",
    "    else:\n",
    "        return row['age']\n",
    "\n",
    "users['age'] = users.apply(lambda x: avgAge(x), axis=1)\n",
    "users['age'].fillna(avg_age, inplace=True)\n",
    "users['first_affiliate_tracked'].fillna('untracked', inplace=True)"
   ]
  },
  {
   "cell_type": "code",
   "execution_count": 249,
   "metadata": {
    "collapsed": false
   },
   "outputs": [
    {
     "data": {
      "text/plain": [
       "id                         False\n",
       "date_account_created       False\n",
       "timestamp_first_active     False\n",
       "date_first_booking         False\n",
       "gender                     False\n",
       "age                        False\n",
       "signup_method              False\n",
       "signup_flow                False\n",
       "language                   False\n",
       "affiliate_channel          False\n",
       "affiliate_provider         False\n",
       "first_affiliate_tracked    False\n",
       "signup_app                 False\n",
       "first_device_type          False\n",
       "first_browser              False\n",
       "country_destination        False\n",
       "dtype: bool"
      ]
     },
     "execution_count": 249,
     "metadata": {},
     "output_type": "execute_result"
    }
   ],
   "source": [
    "users.isnull().any()"
   ]
  },
  {
   "cell_type": "markdown",
   "metadata": {},
   "source": [
    "# There are several missing values in all the dataframes\n",
    "* ### Sessions - User ID, Action, Action Type, Action Detail, Seconds Elapsed\n",
    "* ### Users - Date First Booking, Age, Gender, First Affiliate Tracked, First Browser\n",
    "\n",
    "# Best way to solve for them\n",
    "* For sessions, dropping all rows with a null value only drops it down from 10 milliion to 9 million, so although it is a large number of rows, relative to the data frame its in, it is not significant\n",
    "\n",
    "* For user without a first booking, their country destination is also NDF, which means 'No Destination Found' which says that they never booked any trips. Since this information is not important to me to help make predictions on what country a user will actually travel too, I will also drop all rows where the country_destination is 'NDF'. For any missing values of first booking left over where there is a destination the user traveled to, it can be assumed that there first booking will be somewhat close to when their account is created. Because of this I will map through the users making their first booking date the date of their account creation. \n",
    "    * This brings it down a considerable amount, more than 50%, which is troublesome, but until a better way is discovered it will have to do.\n",
    "* For users.Age, I will just use the mean of all user ages.\n",
    "* First affiliate tracked in the users table already has an 'untracked' category, so for any NaN values, I will replace it with 'untracked'\n",
    "* For gender, I will have to keep the 'unknown' category as 'unknown' since gender is probably a very important feature for prediction."
   ]
  },
  {
   "cell_type": "code",
   "execution_count": 250,
   "metadata": {
    "collapsed": true
   },
   "outputs": [],
   "source": [
    "other_dict = {\n",
    "    'country_destination': 'other', \n",
    "    'lat_destination': countries['lat_destination'].mean(),\n",
    "    'lng_destination': countries['lng_destination'].mean(),\n",
    "    'distance_km': countries['distance_km'].mean(),\n",
    "    'destination_km2': countries['destination_km2'].mean(),\n",
    "    'destination_language ': countries['destination_language '].iloc[0],\n",
    "    'language_levenshtein_distance': countries['language_levenshtein_distance'].mean()\n",
    "}\n",
    "\n",
    "countries = countries.append(other_dict, ignore_index=True)"
   ]
  },
  {
   "cell_type": "markdown",
   "metadata": {},
   "source": [
    "### User and Session data frames can be joined by a user id\n",
    "* Could gather useful nformation such as what users spend the most time on in the AirBnB site, or what they do the most frequently on the site.\n",
    "\n",
    "### User and Country can be joined by country_destination\n",
    "* Good for looking at size and main language of country destination\n",
    "\n",
    "### User and Age_Gender_Bkts can be joined on gender/country_dest/modified age\n",
    "* This may be useful in getting the total population of the country they are headed to, or the population of the age/group they are in. Maybe even girl to guy ratio of age group they are in, or ratio of age group compared to entire population they are in."
   ]
  },
  {
   "cell_type": "code",
   "execution_count": 264,
   "metadata": {
    "collapsed": false
   },
   "outputs": [],
   "source": [
    "user_and_country = pd.merge(users, countries, how='outer', on='country_destination')\n",
    "user_and_country['gender'] = user_and_country['gender'].str.lower()\n",
    "user_and_country = user_and_country.loc[user_and_country['gender'] != 'OTHER']\n",
    "\n",
    "def convertUnknown(row):\n",
    "    if row['first_browser'] == '-unknown-':\n",
    "        return 'Other'\n",
    "    else:\n",
    "        return row['first_browser']\n",
    "\n",
    "user_and_country['first_browser'] = user_and_country.apply(lambda x: convertUnknown(x), axis=1)\n",
    "user_and_country['first_browser'] = user_and_country['first_browser'].astype('category')\n",
    "user_and_country = user_and_country.drop('language_levenshtein_distance', axis=1)"
   ]
  },
  {
   "cell_type": "markdown",
   "metadata": {},
   "source": [
    "## Make age range string in age_gender_buckets table an actual list to assist with merging that dataframe with user_and_country dataframe"
   ]
  },
  {
   "cell_type": "code",
   "execution_count": 265,
   "metadata": {
    "collapsed": false
   },
   "outputs": [],
   "source": [
    "def getAgeList(row):\n",
    "    clean_age = row['age_bucket'].replace('+', '')\n",
    "    min_max = clean_age.split('-')\n",
    "    \n",
    "    if len(min_max) > 1:\n",
    "        min_max = list(range(int(min_max[0]), int(min_max[1]) + 1))\n",
    "    return min_max\n",
    "\n",
    "age_gender['age_list'] = age_gender.apply(lambda x: getAgeList(x), axis=1)"
   ]
  },
  {
   "cell_type": "code",
   "execution_count": 268,
   "metadata": {
    "collapsed": false
   },
   "outputs": [],
   "source": [
    "l = age_gender['age_list'].str.len()\n",
    "cols = age_gender.columns.difference(['age_list'])\n",
    "\n",
    "df = pd.DataFrame({col: np.repeat(age_gender[col].values, l) for col in cols})\n",
    "df['age'] = np.concatenate(age_gender['age_list'].values).astype(int)\n",
    "\n",
    "user_country_buckets = pd.merge(df, user_and_country, how=\"inner\", on=['age', 'country_destination', 'gender'])\n",
    "user_country_buckets = user_country_buckets.drop('age_bucket', axis=1)\n",
    "user_country_buckets = user_country_buckets.drop('year', axis=1)\n",
    "\n",
    "user_country_buckets = user_country_buckets.rename(columns={'population_in_thousands': 'dest_age_pop'})\n",
    "user_country_buckets['dest_age_pop'] = user_country_buckets['dest_age_pop'].apply(lambda x: math.ceil(x*1000))"
   ]
  },
  {
   "cell_type": "markdown",
   "metadata": {},
   "source": [
    "# Thinking of way to use session data"
   ]
  },
  {
   "cell_type": "code",
   "execution_count": 259,
   "metadata": {
    "collapsed": false
   },
   "outputs": [],
   "source": [
    "x = sessions.groupby('user_id')['action_detail'].value_counts()"
   ]
  },
  {
   "cell_type": "code",
   "execution_count": 262,
   "metadata": {
    "collapsed": false
   },
   "outputs": [
    {
     "data": {
      "text/plain": [
       "user_id     action_detail              \n",
       "00023iyk9l  p3                              6\n",
       "            p5                              5\n",
       "            view_search_results             5\n",
       "            dashboard                       4\n",
       "            wishlist_content_update         4\n",
       "            similar_listings                3\n",
       "            change_trip_characteristics     2\n",
       "            header_userpic                  2\n",
       "            your_trips                      2\n",
       "            confirm_email_link              1\n",
       "            pending                         1\n",
       "0010k6l0om  p3                             13\n",
       "            view_search_results            10\n",
       "            change_trip_characteristics     8\n",
       "            wishlist_content_update         8\n",
       "Name: action_detail, dtype: int64"
      ]
     },
     "execution_count": 262,
     "metadata": {},
     "output_type": "execute_result"
    }
   ],
   "source": [
    "x.head(15)"
   ]
  }
 ],
 "metadata": {
  "kernelspec": {
   "display_name": "Python 3",
   "language": "python",
   "name": "python3"
  },
  "language_info": {
   "codemirror_mode": {
    "name": "ipython",
    "version": 3
   },
   "file_extension": ".py",
   "mimetype": "text/x-python",
   "name": "python",
   "nbconvert_exporter": "python",
   "pygments_lexer": "ipython3",
   "version": "3.6.0"
  }
 },
 "nbformat": 4,
 "nbformat_minor": 2
}
