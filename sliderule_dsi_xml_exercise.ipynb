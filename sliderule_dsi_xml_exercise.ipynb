{
 "cells": [
  {
   "cell_type": "markdown",
   "metadata": {},
   "source": [
    "# XML example and exercise\n",
    "****\n",
    "+ study examples of accessing nodes in XML tree structure  \n",
    "+ work on exercise to be completed and submitted\n",
    "****\n",
    "+ reference: https://docs.python.org/2.7/library/xml.etree.elementtree.html\n",
    "+ data source: http://www.dbis.informatik.uni-goettingen.de/Mondial\n",
    "****"
   ]
  },
  {
   "cell_type": "code",
   "execution_count": 1,
   "metadata": {
    "collapsed": true
   },
   "outputs": [],
   "source": [
    "from xml.etree import ElementTree as ET"
   ]
  },
  {
   "cell_type": "markdown",
   "metadata": {},
   "source": [
    "## XML example\n",
    "\n",
    "+ for details about tree traversal and iterators, see https://docs.python.org/2.7/library/xml.etree.elementtree.html"
   ]
  },
  {
   "cell_type": "code",
   "execution_count": 3,
   "metadata": {
    "collapsed": true
   },
   "outputs": [],
   "source": [
    "document_tree = ET.parse( './data/mondial_database_less.xml' )"
   ]
  },
  {
   "cell_type": "code",
   "execution_count": 4,
   "metadata": {
    "collapsed": false
   },
   "outputs": [
    {
     "name": "stdout",
     "output_type": "stream",
     "text": [
      "Albania\n",
      "Greece\n",
      "Macedonia\n",
      "Serbia\n",
      "Montenegro\n",
      "Kosovo\n",
      "Andorra\n"
     ]
    }
   ],
   "source": [
    "# print names of all countries\n",
    "for child in document_tree.getroot():\n",
    "    print child.find('name').text"
   ]
  },
  {
   "cell_type": "code",
   "execution_count": 5,
   "metadata": {
    "collapsed": false
   },
   "outputs": [
    {
     "name": "stdout",
     "output_type": "stream",
     "text": [
      "* Albania: Tirana, Shkodër, Durrës, Vlorë, Elbasan, Korçë\n",
      "* Greece: Komotini, Kavala, Athina, Peiraias, Peristeri, Acharnes, Patra, Kozani, Kerkyra, Ioannina, Thessaloniki, Iraklio, Chania, Ermoupoli, Rhodes, Tripoli, Lamia, Chalkida, Larissa, Volos, Mytilini, Karyes\n",
      "* Macedonia: Skopje, Kumanovo\n",
      "* Serbia: Beograd, Novi Sad, Niš\n",
      "* Montenegro: Podgorica\n",
      "* Kosovo: Prishtine\n",
      "* Andorra: Andorra la Vella\n"
     ]
    }
   ],
   "source": [
    "# print names of all countries and their cities\n",
    "for element in document_tree.iterfind('country'):\n",
    "    print '* ' + element.find('name').text + ':',\n",
    "    capitals_string = ''\n",
    "    for subelement in element.getiterator('city'):\n",
    "        capitals_string += subelement.find('name').text + ', '\n",
    "    print capitals_string[:-2]"
   ]
  },
  {
   "cell_type": "markdown",
   "metadata": {},
   "source": [
    "****\n",
    "## XML exercise\n",
    "\n",
    "Using data in 'data/mondial_database.xml', the examples above, and refering to https://docs.python.org/2.7/library/xml.etree.elementtree.html, find\n",
    "\n",
    "1. 10 countries with the lowest infant mortality rates\n",
    "2. 10 cities with the largest population\n",
    "3. 10 ethnic groups with the largest overall populations (sum of best/latest estimates over all countries)\n",
    "4. name and country of a) longest river, b) largest lake and c) airport at highest elevation"
   ]
  },
  {
   "cell_type": "code",
   "execution_count": 4,
   "metadata": {
    "collapsed": true
   },
   "outputs": [],
   "source": [
    "from xml.etree import ElementTree as ET\n",
    "import pandas as pd"
   ]
  },
  {
   "cell_type": "code",
   "execution_count": 214,
   "metadata": {
    "collapsed": false
   },
   "outputs": [],
   "source": [
    "document_tree = ET.parse( './data/mondial_database.xml' )"
   ]
  },
  {
   "cell_type": "code",
   "execution_count": 215,
   "metadata": {
    "collapsed": true
   },
   "outputs": [],
   "source": [
    "def calculatePopulation(row):\n",
    "    if row.top_ethnicity:\n",
    "        return (float(row.ethnic_perc) / 100) * int(row.recent_population)\n",
    "    else:\n",
    "        return None"
   ]
  },
  {
   "cell_type": "code",
   "execution_count": 216,
   "metadata": {
    "collapsed": false
   },
   "outputs": [],
   "source": [
    "country_list = []\n",
    "country_codes = []\n",
    "mort_rates = []\n",
    "pops = []\n",
    "ethnicities = []\n",
    "ethnic_percent = []\n",
    "\n",
    "columns = ['name', 'country_code', 'infant_mortality', 'recent_population', 'top_ethnicity', 'ethnic_perc', 'ethnic_pop', 'longest_river', 'river_length', 'biggest_lake', 'lake_area', 'highest_airport', 'airport_elevation']\n",
    "\n",
    "for element in document_tree.iterfind('country'):\n",
    "    country_list.append(element.find('name').text)\n",
    "    country_codes.append(element.attrib['car_code'])\n",
    "    try:\n",
    "        mort_rates.append(element.find('infant_mortality').text)\n",
    "    except:\n",
    "        mort_rates.append(None)\n",
    "        \n",
    "    # Create list comprehension of dictionaries for top level population elements under 'country'\n",
    "    pop_dict_list = [{'year': subel.attrib['year'], 'value': subel.text} for subel in element.iterfind('population')]\n",
    "        \n",
    "    newlist = sorted(pop_dict_list, key=lambda k: k['year'])[-1:]\n",
    "    pops.append(newlist[0]['value'])        \n",
    "    \n",
    "    # Create list comprehension of dictionaries for ethnic group elements under 'country'\n",
    "    ethnic_dict_list = [{'percent': subel.attrib['percentage'], 'value': subel.text} for subel in element.iterfind('ethnicgroup')]\n",
    "        \n",
    "    newlist = sorted(ethnic_dict_list, key=lambda k: k['percent'])[-1:]\n",
    "    \n",
    "    if len(newlist) > 0:\n",
    "        ethnicities.append(newlist[0]['value'])  \n",
    "        ethnic_percent.append(newlist[0]['percent'])\n",
    "    else:\n",
    "        ethnicities.append(None)\n",
    "        ethnic_percent.append(None)\n",
    "        \n",
    "country_df = pd.DataFrame(columns=columns)\n",
    "country_df['name'] = country_list\n",
    "country_df['country_code'] = country_codes\n",
    "country_df['infant_mortality'] = mort_rates\n",
    "country_df['recent_population'] = pops\n",
    "country_df['top_ethnicity'] = ethnicities\n",
    "country_df['ethnic_perc'] = ethnic_percent\n",
    "country_df['ethnic_pop'] = country_df.apply(lambda x: calculatePopulation(x), axis=1)"
   ]
  },
  {
   "cell_type": "code",
   "execution_count": 123,
   "metadata": {
    "collapsed": false
   },
   "outputs": [],
   "source": [
    "def findGreatestValueOfElement(target_el, comparison_var, col_name, col_name_two):\n",
    "    # target_el = 'airport', 'lake', 'river'\n",
    "    # comparison_var = 'elevation', 'area'\n",
    "        \n",
    "    element_dict = {}\n",
    "    biggest_element = []\n",
    "    element_max_value = []\n",
    "    element_countries = []\n",
    "    \n",
    "    for element in document_tree.iterfind(target_el):        \n",
    "        element_country = element.attrib['country'].split(' ')\n",
    "        for country in element_country:\n",
    "            if country not in element_countries:\n",
    "                element_countries.append(country)\n",
    "                                    \n",
    "            if country not in element_dict:\n",
    "                if element.find(comparison_var) is None or element.find(comparison_var).text == None:\n",
    "                    element_dict[country] = [{'comp_var': 0, 'name': element.find('name').text}]\n",
    "                else:\n",
    "                    element_dict[country] = [{'comp_var': element.find(comparison_var).text, 'name': element.find('name').text}]\n",
    "            else:\n",
    "                if element.find(comparison_var) is None or element.find(comparison_var).text == None:\n",
    "                    element_dict[country].append({'comp_var': 0, 'name': element.find('name').text})\n",
    "                else:\n",
    "                    element_dict[country].append({'comp_var': element.find(comparison_var).text, 'name': element.find('name').text})\n",
    "                \n",
    "    for code in country_df['country_code'].tolist():\n",
    "        if code not in element_dict:\n",
    "            element_dict[code] = [{'comp_var': 0, 'name': 'NA'}]\n",
    "    \n",
    "    for item in element_dict:\n",
    "        try:\n",
    "            element_dict[item] = sorted(element_dict[item], key=lambda k: int(k['comp_var']))[-1:]\n",
    "        except:\n",
    "            element_dict[item] = sorted(element_dict[item], key=lambda k: float(k['comp_var']))[-1:]\n",
    "        element_dict[item] = element_dict[item][0]\n",
    "        biggest_element.append(element_dict[item]['name'])\n",
    "        element_max_value.append(element_dict[item]['comp_var'])\n",
    "\n",
    "    country_df[col_name] = biggest_element\n",
    "    country_df[col_name_two] = element_max_value"
   ]
  },
  {
   "cell_type": "code",
   "execution_count": 212,
   "metadata": {
    "collapsed": false
   },
   "outputs": [],
   "source": [
    "findGreatestValueOfElement('airport', 'elevation', 'highest_airport', 'airport_elevation')\n",
    "findGreatestValueOfElement('river', 'length', 'longest_river', 'river_length')\n",
    "findGreatestValueOfElement('lake', 'area', 'biggest_lake', 'lake_area')"
   ]
  },
  {
   "cell_type": "code",
   "execution_count": 207,
   "metadata": {
    "collapsed": false
   },
   "outputs": [],
   "source": [
    "def findTopValue(df, column_measurement):\n",
    "    try:\n",
    "        df[column_measurement] = df[column_measurement].astype('int')\n",
    "    except:\n",
    "        df[column_measurement] = df[column_measurement].astype('float')\n",
    "        \n",
    "    max_value = df.sort_values(by=column_measurement, ascending=False).head(1)\n",
    "    return max_value"
   ]
  },
  {
   "cell_type": "code",
   "execution_count": 209,
   "metadata": {
    "collapsed": false
   },
   "outputs": [
    {
     "data": {
      "text/html": [
       "<div>\n",
       "<table border=\"1\" class=\"dataframe\">\n",
       "  <thead>\n",
       "    <tr style=\"text-align: right;\">\n",
       "      <th></th>\n",
       "      <th>name</th>\n",
       "      <th>country_code</th>\n",
       "      <th>infant_mortality</th>\n",
       "      <th>recent_population</th>\n",
       "      <th>top_ethnicity</th>\n",
       "      <th>ethnic_perc</th>\n",
       "      <th>ethnic_pop</th>\n",
       "      <th>longest_river</th>\n",
       "      <th>river_length</th>\n",
       "      <th>biggest_lake</th>\n",
       "      <th>lake_area</th>\n",
       "      <th>highest_airport</th>\n",
       "      <th>airport_elevation</th>\n",
       "    </tr>\n",
       "  </thead>\n",
       "  <tbody>\n",
       "    <tr>\n",
       "      <th>23</th>\n",
       "      <td>Russia</td>\n",
       "      <td>R</td>\n",
       "      <td>7.08</td>\n",
       "      <td>143666931</td>\n",
       "      <td>Russian</td>\n",
       "      <td>79.8</td>\n",
       "      <td>1.146462e+08</td>\n",
       "      <td>Elbe</td>\n",
       "      <td>1091</td>\n",
       "      <td>Lake Genezareth</td>\n",
       "      <td>165.0</td>\n",
       "      <td>El Alto Intl</td>\n",
       "      <td>4063</td>\n",
       "    </tr>\n",
       "  </tbody>\n",
       "</table>\n",
       "</div>"
      ],
      "text/plain": [
       "      name country_code infant_mortality recent_population top_ethnicity  \\\n",
       "23  Russia            R             7.08         143666931       Russian   \n",
       "\n",
       "   ethnic_perc    ethnic_pop longest_river  river_length     biggest_lake  \\\n",
       "23        79.8  1.146462e+08          Elbe          1091  Lake Genezareth   \n",
       "\n",
       "    lake_area highest_airport  airport_elevation  \n",
       "23      165.0    El Alto Intl               4063  "
      ]
     },
     "execution_count": 209,
     "metadata": {},
     "output_type": "execute_result"
    }
   ],
   "source": [
    "findTopValue(country_df, 'airport_elevation')"
   ]
  },
  {
   "cell_type": "code",
   "execution_count": 210,
   "metadata": {
    "collapsed": false
   },
   "outputs": [
    {
     "data": {
      "text/html": [
       "<div>\n",
       "<table border=\"1\" class=\"dataframe\">\n",
       "  <thead>\n",
       "    <tr style=\"text-align: right;\">\n",
       "      <th></th>\n",
       "      <th>name</th>\n",
       "      <th>country_code</th>\n",
       "      <th>infant_mortality</th>\n",
       "      <th>recent_population</th>\n",
       "      <th>top_ethnicity</th>\n",
       "      <th>ethnic_perc</th>\n",
       "      <th>ethnic_pop</th>\n",
       "      <th>longest_river</th>\n",
       "      <th>river_length</th>\n",
       "      <th>biggest_lake</th>\n",
       "      <th>lake_area</th>\n",
       "      <th>highest_airport</th>\n",
       "      <th>airport_elevation</th>\n",
       "    </tr>\n",
       "  </thead>\n",
       "  <tbody>\n",
       "    <tr>\n",
       "      <th>72</th>\n",
       "      <td>Thailand</td>\n",
       "      <td>THA</td>\n",
       "      <td>9.86</td>\n",
       "      <td>65981659</td>\n",
       "      <td>Thai</td>\n",
       "      <td>75</td>\n",
       "      <td>49486244.25</td>\n",
       "      <td>Amazonas</td>\n",
       "      <td>6448</td>\n",
       "      <td>NA</td>\n",
       "      <td>0.0</td>\n",
       "      <td>Bellegarde</td>\n",
       "      <td>396</td>\n",
       "    </tr>\n",
       "  </tbody>\n",
       "</table>\n",
       "</div>"
      ],
      "text/plain": [
       "        name country_code infant_mortality recent_population top_ethnicity  \\\n",
       "72  Thailand          THA             9.86          65981659          Thai   \n",
       "\n",
       "   ethnic_perc   ethnic_pop longest_river  river_length biggest_lake  \\\n",
       "72          75  49486244.25      Amazonas          6448           NA   \n",
       "\n",
       "    lake_area highest_airport  airport_elevation  \n",
       "72        0.0      Bellegarde                396  "
      ]
     },
     "execution_count": 210,
     "metadata": {},
     "output_type": "execute_result"
    }
   ],
   "source": [
    "findTopValue(country_df, 'river_length')"
   ]
  },
  {
   "cell_type": "code",
   "execution_count": 211,
   "metadata": {
    "collapsed": false
   },
   "outputs": [
    {
     "data": {
      "text/html": [
       "<div>\n",
       "<table border=\"1\" class=\"dataframe\">\n",
       "  <thead>\n",
       "    <tr style=\"text-align: right;\">\n",
       "      <th></th>\n",
       "      <th>name</th>\n",
       "      <th>country_code</th>\n",
       "      <th>infant_mortality</th>\n",
       "      <th>recent_population</th>\n",
       "      <th>top_ethnicity</th>\n",
       "      <th>ethnic_perc</th>\n",
       "      <th>ethnic_pop</th>\n",
       "      <th>longest_river</th>\n",
       "      <th>river_length</th>\n",
       "      <th>biggest_lake</th>\n",
       "      <th>lake_area</th>\n",
       "      <th>highest_airport</th>\n",
       "      <th>airport_elevation</th>\n",
       "    </tr>\n",
       "  </thead>\n",
       "  <tbody>\n",
       "    <tr>\n",
       "      <th>17</th>\n",
       "      <td>Switzerland</td>\n",
       "      <td>CH</td>\n",
       "      <td>3.73</td>\n",
       "      <td>8139631</td>\n",
       "      <td>German</td>\n",
       "      <td>65</td>\n",
       "      <td>5290760.15</td>\n",
       "      <td>Donau</td>\n",
       "      <td>2845</td>\n",
       "      <td>Caspian Sea</td>\n",
       "      <td>386400</td>\n",
       "      <td>Minsk 2</td>\n",
       "      <td>204</td>\n",
       "    </tr>\n",
       "  </tbody>\n",
       "</table>\n",
       "</div>"
      ],
      "text/plain": [
       "           name country_code infant_mortality recent_population top_ethnicity  \\\n",
       "17  Switzerland           CH             3.73           8139631        German   \n",
       "\n",
       "   ethnic_perc  ethnic_pop longest_river  river_length biggest_lake  \\\n",
       "17          65  5290760.15         Donau          2845  Caspian Sea   \n",
       "\n",
       "    lake_area highest_airport  airport_elevation  \n",
       "17     386400         Minsk 2                204  "
      ]
     },
     "execution_count": 211,
     "metadata": {},
     "output_type": "execute_result"
    }
   ],
   "source": [
    "findTopValue(country_df, 'lake_area')"
   ]
  },
  {
   "cell_type": "code",
   "execution_count": null,
   "metadata": {
    "collapsed": true
   },
   "outputs": [],
   "source": []
  }
 ],
 "metadata": {
  "kernelspec": {
   "display_name": "Python 3",
   "language": "python",
   "name": "python3"
  },
  "language_info": {
   "codemirror_mode": {
    "name": "ipython",
    "version": 3
   },
   "file_extension": ".py",
   "mimetype": "text/x-python",
   "name": "python",
   "nbconvert_exporter": "python",
   "pygments_lexer": "ipython3",
   "version": "3.6.0"
  }
 },
 "nbformat": 4,
 "nbformat_minor": 0
}
