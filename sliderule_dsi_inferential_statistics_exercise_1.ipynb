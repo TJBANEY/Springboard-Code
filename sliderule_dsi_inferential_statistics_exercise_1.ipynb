{
 "cells": [
  {
   "cell_type": "markdown",
   "metadata": {},
   "source": [
    "# What is the True Normal Human Body Temperature? \n",
    "\n",
    "#### Background\n",
    "\n",
    "The mean normal body temperature was held to be 37$^{\\circ}$C or 98.6$^{\\circ}$F for more than 120 years since it was first conceptualized and reported by Carl Wunderlich in a famous 1868 book. But, is this value statistically correct?"
   ]
  },
  {
   "cell_type": "markdown",
   "metadata": {},
   "source": [
    "<div class=\"span5 alert alert-info\">\n",
    "<h3>Exercises</h3>\n",
    "\n",
    "<p>In this exercise, you will analyze a dataset of human body temperatures and employ the concepts of hypothesis testing, confidence intervals, and statistical significance.</p>\n",
    "\n",
    "<p>Answer the following questions <b>in this notebook below and submit to your Github account</b>.</p> \n",
    "\n",
    "<ol>\n",
    "<li>  Is the distribution of body temperatures normal? \n",
    "    <ul>\n",
    "    <li> Although this is not a requirement for CLT to hold (read CLT carefully), it gives us some peace of mind that the population may also be normally distributed if we assume that this sample is representative of the population.\n",
    "    </ul>\n",
    "<li>  Is the sample size large? Are the observations independent?\n",
    "    <ul>\n",
    "    <li> Remember that this is a condition for the CLT, and hence the statistical tests we are using, to apply.\n",
    "    </ul>\n",
    "<li>  Is the true population mean really 98.6 degrees F?\n",
    "    <ul>\n",
    "    <li> Would you use a one-sample or two-sample test? Why?\n",
    "    <li> In this situation, is it appropriate to use the $t$ or $z$ statistic? \n",
    "    <li> Now try using the other test. How is the result be different? Why?\n",
    "    </ul>\n",
    "<li>  At what temperature should we consider someone's temperature to be \"abnormal\"?\n",
    "    <ul>\n",
    "    <li> Start by computing the margin of error and confidence interval.\n",
    "    </ul>\n",
    "<li>  Is there a significant difference between males and females in normal temperature?\n",
    "    <ul>\n",
    "    <li> What test did you use and why?\n",
    "    <li> Write a story with your conclusion in the context of the original problem.\n",
    "    </ul>\n",
    "</ol>\n",
    "\n",
    "You can include written notes in notebook cells using Markdown: \n",
    "   - In the control panel at the top, choose Cell > Cell Type > Markdown\n",
    "   - Markdown syntax: http://nestacms.com/docs/creating-content/markdown-cheat-sheet\n",
    "\n",
    "#### Resources\n",
    "\n",
    "+ Information and data sources: http://www.amstat.org/publications/jse/datasets/normtemp.txt, http://www.amstat.org/publications/jse/jse_data_archive.htm\n",
    "+ Markdown syntax: http://nestacms.com/docs/creating-content/markdown-cheat-sheet\n",
    "\n",
    "****\n",
    "</div>"
   ]
  },
  {
   "cell_type": "code",
   "execution_count": 4,
   "metadata": {
    "collapsed": false
   },
   "outputs": [],
   "source": [
    "from __future__ import print_function, division\n",
    "\n",
    "import pandas as pd\n",
    "import scipy.stats\n",
    "import matplotlib.pyplot as plt\n",
    "import numpy as np\n",
    "\n",
    "df = pd.read_csv('data/human_body_temperature.csv')"
   ]
  },
  {
   "cell_type": "markdown",
   "metadata": {},
   "source": [
    "### Get mean, and standard deviation of people sample"
   ]
  },
  {
   "cell_type": "markdown",
   "metadata": {},
   "source": [
    "### CLT - Central Limit Theorem = statistical theory that states that given a sufficiently large sample size from a population with a finite level of variance, the mean of all samples from the same population will be approximately equal to the mean of the population.\n",
    "\n",
    "### A normal distribution has a bell-shaped density curve described by its mean   and standard deviation  . The density curve is symmetrical, centered about its mean, with its spread determined by its standard deviation.\n",
    "\n",
    "### If a dataset follows a normal distribution, then about 68% of the observations will fall within 1 standard deviation of the mean. About 95% of the observations will fall within 2 standard deviations of the mean, and about 99.7% of the observations will fall within 3 standard deviations of the mean."
   ]
  },
  {
   "cell_type": "code",
   "execution_count": 5,
   "metadata": {
    "collapsed": false
   },
   "outputs": [],
   "source": [
    "avg_temp = df.temperature.mean()\n",
    "temp_std = df.temperature.std()\n",
    "\n",
    "def sdp(std_number):\n",
    "    more = avg_temp + (temp_std * std_number)\n",
    "    less = avg_temp - (temp_std * std_number)\n",
    "    temp_range = (df['temperature'] < more) & (df['temperature'] > less)\n",
    "    \n",
    "    count = df.loc[temp_range]['temperature'].count()\n",
    "    \n",
    "    return count/130"
   ]
  },
  {
   "cell_type": "code",
   "execution_count": 6,
   "metadata": {
    "collapsed": false
   },
   "outputs": [
    {
     "data": {
      "text/plain": [
       "'0.6923076923076923 - 0.9461538461538461 - 0.9923076923076923'"
      ]
     },
     "execution_count": 6,
     "metadata": {},
     "output_type": "execute_result"
    }
   ],
   "source": [
    "one_sdp = sdp(1)\n",
    "two_sdp = sdp(2)\n",
    "three_sdp = sdp(3)\n",
    "\n",
    "sdp_range = '{} - {} - {}'.format(one_sdp, two_sdp, three_sdp)\n",
    "sdp_range"
   ]
  },
  {
   "cell_type": "markdown",
   "metadata": {},
   "source": [
    "### The distribution is normal because the percent of the sample within 1, 2, and 3 standard deviations from the mean is about 69%, 95%, and 99.7% as mentioned above.\n",
    "\n",
    "### Observations are independent"
   ]
  },
  {
   "cell_type": "code",
   "execution_count": 7,
   "metadata": {
    "collapsed": false
   },
   "outputs": [
    {
     "data": {
      "image/png": "[encoded data removed]",
      "text/plain": [
       "<matplotlib.figure.Figure at 0x1176fea90>"
      ]
     },
     "metadata": {},
     "output_type": "display_data"
    }
   ],
   "source": [
    "# A sample of 130 people and their gender, heart_rate, and body temperature\n",
    "\n",
    "# Create distribution from data getting the mean, quartiles, min, max, and standard deviation\n",
    "\n",
    "temp_dist = scipy.stats.norm(avg_temp, temp_std)\n",
    "\n",
    "def eval_pdf(rv, num=4):\n",
    "    mean, std = rv.mean(), rv.std()\n",
    "    xs = np.linspace(mean - num*std, mean + num*std, 100)\n",
    "    ys = rv.pdf(xs)\n",
    "    return xs, ys\n",
    "\n",
    "xs, ys = eval_pdf(temp_dist)\n",
    "plt.plot(xs, ys, label='male', linewidth=4)\n",
    "plt.show()"
   ]
  },
  {
   "cell_type": "markdown",
   "metadata": {},
   "source": [
    "### 1) Repeat sample model 100 times and get a distribution of sampling means\n",
    "### 2) The mean of that distribution should be very close to the true mean\n",
    "### 3) Get standard deviation of population by dividing std of sample by sqrt of sample size"
   ]
  },
  {
   "cell_type": "code",
   "execution_count": 31,
   "metadata": {
    "collapsed": false
   },
   "outputs": [
    {
     "data": {
      "text/plain": [
       "0.06430441683789101"
      ]
     },
     "execution_count": 31,
     "metadata": {},
     "output_type": "execute_result"
    }
   ],
   "source": [
    "pop_std = temp_std/130**.5\n",
    "pop_std"
   ]
  },
  {
   "cell_type": "markdown",
   "metadata": {
    "collapsed": true
   },
   "source": [
    "### Get distribution of sample means, resampled 10000 times."
   ]
  },
  {
   "cell_type": "code",
   "execution_count": 44,
   "metadata": {
    "collapsed": false
   },
   "outputs": [
    {
     "ename": "AttributeError",
     "evalue": "'list' object has no attribute 'std'",
     "output_type": "error",
     "traceback": [
      "\u001b[0;31m---------------------------------------------------------------------------\u001b[0m",
      "\u001b[0;31mAttributeError\u001b[0m                            Traceback (most recent call last)",
      "\u001b[0;32m<ipython-input-44-9b9e357cff18>\u001b[0m in \u001b[0;36m<module>\u001b[0;34m()\u001b[0m\n\u001b[1;32m      8\u001b[0m \u001b[0;34m\u001b[0m\u001b[0m\n\u001b[1;32m      9\u001b[0m \u001b[0msample_means\u001b[0m \u001b[0;34m=\u001b[0m \u001b[0mcreate_sampling_dist\u001b[0m\u001b[0;34m(\u001b[0m\u001b[0mdf\u001b[0m\u001b[0;34m.\u001b[0m\u001b[0mtemperature\u001b[0m\u001b[0;34m,\u001b[0m \u001b[0;36m10000\u001b[0m\u001b[0;34m)\u001b[0m\u001b[0;34m\u001b[0m\u001b[0m\n\u001b[0;32m---> 10\u001b[0;31m \u001b[0msm_dev\u001b[0m \u001b[0;34m=\u001b[0m \u001b[0msample_means\u001b[0m\u001b[0;34m.\u001b[0m\u001b[0mstd\u001b[0m\u001b[0;34m(\u001b[0m\u001b[0;34m)\u001b[0m\u001b[0;34m\u001b[0m\u001b[0m\n\u001b[0m\u001b[1;32m     11\u001b[0m \u001b[0msm_mean\u001b[0m \u001b[0;34m=\u001b[0m \u001b[0msample_means\u001b[0m\u001b[0;34m.\u001b[0m\u001b[0mmean\u001b[0m\u001b[0;34m(\u001b[0m\u001b[0;34m)\u001b[0m\u001b[0;34m\u001b[0m\u001b[0m\n\u001b[1;32m     12\u001b[0m \u001b[0;34m\u001b[0m\u001b[0m\n",
      "\u001b[0;31mAttributeError\u001b[0m: 'list' object has no attribute 'std'"
     ]
    }
   ],
   "source": [
    "def summarize_sampling_distribution(sample_stats):\n",
    "    print('SE', sample_stats.std())\n",
    "    print('90% CI', np.percentile(sample_stats, [5, 95]))\n",
    "    \n",
    "def create_sampling_dist(sample, resamples=1000):\n",
    "    sample_means = [np.random.choice(sample, len(sample), replace=True).mean() for i in range(resamples)]\n",
    "    return sample_means\n",
    "\n",
    "sample_means = create_sampling_dist(df.temperature, 10000)\n",
    "sm_dev = sample_means.std()\n",
    "sm_mean = sample_means.mean()\n",
    "\n",
    "sm_dist = scipy.stats.norm(sm_mean, sm_dev)\n",
    "\n",
    "xs, ys = eval_pdf(sm_dist)\n",
    "plt.plot(xs, ys, label='sample statistic', linewidth=4)\n",
    "plt.show()"
   ]
  },
  {
   "cell_type": "markdown",
   "metadata": {},
   "source": [
    "# Z-Stat vs. T-Stat\n",
    "\n",
    "### T-Distribution = engineered to give you a better estimate of your confidence intervals when you do have a small sample size e.g.   Less than 30 observations."
   ]
  },
  {
   "cell_type": "markdown",
   "metadata": {},
   "source": [
    "### When looking at T-Table for T-Distribution to get a percent confidence interval, there is a One Sided Row, and Two Sided Row\n",
    "* Two Sided should be used when distribution is normal, and symmetric around the center.\n",
    "\n",
    "### T-Table has 'degrees of freedom', which is the index in the table, and is the size of the sample minus 1. So if the sample size is 7 we will look for 6"
   ]
  },
  {
   "cell_type": "code",
   "execution_count": 47,
   "metadata": {
    "collapsed": false
   },
   "outputs": [
    {
     "data": {
      "text/plain": [
       "0.7331831580389454"
      ]
     },
     "execution_count": 47,
     "metadata": {},
     "output_type": "execute_result"
    }
   ],
   "source": [
    "# Estimated total population = 7000000000\n",
    "sample_variance = df.temperature.var()\n",
    "sample_variance**.5"
   ]
  },
  {
   "cell_type": "code",
   "execution_count": 48,
   "metadata": {
    "collapsed": false
   },
   "outputs": [
    {
     "data": {
      "text/plain": [
       "0.7331831580389454"
      ]
     },
     "execution_count": 48,
     "metadata": {},
     "output_type": "execute_result"
    }
   ],
   "source": [
    "temp_std"
   ]
  },
  {
   "cell_type": "code",
   "execution_count": 60,
   "metadata": {
    "collapsed": false
   },
   "outputs": [
    {
     "data": {
      "text/plain": [
       "'98.08332537378902 - 98.41513616467253'"
      ]
     },
     "execution_count": 60,
     "metadata": {},
     "output_type": "execute_result"
    }
   ],
   "source": [
    "# Standard deviation of population is std of sample divided by square root of sample size\n",
    "\n",
    "x = temp_std/130**.5\n",
    "y = x * 2.58\n",
    "high_confidence_pop_mean = '{} - {}'.format(avg_temp - y, avg_temp + y)\n",
    "high_confidence_pop_mean"
   ]
  },
  {
   "cell_type": "markdown",
   "metadata": {},
   "source": [
    "## 99% confident that average body temperature of entire planet lies somewhere between 98.08 and 98.41 degrees"
   ]
  },
  {
   "cell_type": "markdown",
   "metadata": {},
   "source": [
    "### How good of a sample is it though ?"
   ]
  },
  {
   "cell_type": "markdown",
   "metadata": {},
   "source": [
    "### Is confidence interval, and margin of error the same thing ?\n",
    "\n",
    "### Like you can get a confidence interval with 99% confidence, you can also get percent confidence for any given interval around the mean of a sample.\n",
    "* Create sampling distribution of sample means\n",
    "* Get standard deviation of sampling mean distribution \"sample standard deviation / sqrt of sample length\"\n",
    "    * e.g. 40 / 6 = 6.67 => Best estimate of the standard deviation of the sampling distribution of the sample mean.\n",
    "    \n",
    "* If sample mean is 112, and the interval is 100 - 124, the interval either lies 12 above or below the sample mean\n",
    "* We divide that number, 12, by the best estimate of the std of the sample dist of the sample mean 6.67 to get the number of standard deviations above and below the mean for the range we are looking for, which in this case is 1.8\n",
    "* \"What is the probability that our one sample mean is within 1.8 standard deviations of our sampling distribution mean\"\n",
    "* Go to Z-Table and get value for 1.8 => .9641\n",
    "* Subtract .5 from it, since Z-Score goes from the very left of the distribution to whatever standard deviation to the right of the mean you are looking for.\n",
    "* Multiply that number, .4641, by two since it is that value to the left and right of the sample mean.\n",
    "* There is a 92.82% chance that the hypothetical population mean is within 100 and 124"
   ]
  },
  {
   "cell_type": "markdown",
   "metadata": {},
   "source": [
    "## Comparing population proportions \"Men vs. Women body temp\"\n",
    "* Get mean, and variance of both men temperature, and women temperature.\n",
    "* Create a new distribution that is made up of the difference between the men and women sample distributions\n",
    "* Men mean - Women mean for the mean /  STD = √Men variance + Women Variance\n",
    "* Next we want to be confident that there is a 95% chance that the difference of means between men and women will be within some number, D, of the difference.\n",
    "\n",
    "## Example of the final confidence interval of the difference of population proportions\n",
    "### \"There is a 95% chance that the true population difference of the proportions is within .043 of the actual difference of the sample proportions that we got.\""
   ]
  },
  {
   "cell_type": "code",
   "execution_count": null,
   "metadata": {
    "collapsed": true
   },
   "outputs": [],
   "source": []
  }
 ],
 "metadata": {
  "kernelspec": {
   "display_name": "Python 3",
   "language": "python",
   "name": "python3"
  },
  "language_info": {
   "codemirror_mode": {
    "name": "ipython",
    "version": 3
   },
   "file_extension": ".py",
   "mimetype": "text/x-python",
   "name": "python",
   "nbconvert_exporter": "python",
   "pygments_lexer": "ipython3",
   "version": "3.6.0"
  }
 },
 "nbformat": 4,
 "nbformat_minor": 0
}
