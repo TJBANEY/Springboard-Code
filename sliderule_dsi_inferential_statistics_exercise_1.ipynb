{
 "cells": [
  {
   "cell_type": "markdown",
   "metadata": {},
   "source": [
    "# What is the True Normal Human Body Temperature? \n",
    "\n",
    "#### Background\n",
    "\n",
    "The mean normal body temperature was held to be 37$^{\\circ}$C or 98.6$^{\\circ}$F for more than 120 years since it was first conceptualized and reported by Carl Wunderlich in a famous 1868 book. But, is this value statistically correct?"
   ]
  },
  {
   "cell_type": "markdown",
   "metadata": {},
   "source": [
    "<div class=\"span5 alert alert-info\">\n",
    "<h3>Exercises</h3>\n",
    "\n",
    "<p>In this exercise, you will analyze a dataset of human body temperatures and employ the concepts of hypothesis testing, confidence intervals, and statistical significance.</p>\n",
    "\n",
    "<p>Answer the following questions <b>in this notebook below and submit to your Github account</b>.</p> \n",
    "\n",
    "<ol>\n",
    "<li>  Is the distribution of body temperatures normal? \n",
    "    <ul>\n",
    "    <li> Although this is not a requirement for CLT to hold (read CLT carefully), it gives us some peace of mind that the population may also be normally distributed if we assume that this sample is representative of the population.\n",
    "    </ul>\n",
    "<li>  Is the sample size large? Are the observations independent?\n",
    "    <ul>\n",
    "    <li> Remember that this is a condition for the CLT, and hence the statistical tests we are using, to apply.\n",
    "    </ul>\n",
    "<li>  Is the true population mean really 98.6 degrees F?\n",
    "    <ul>\n",
    "    <li> Would you use a one-sample or two-sample test? Why?\n",
    "    <li> In this situation, is it appropriate to use the $t$ or $z$ statistic? \n",
    "    <li> Now try using the other test. How is the result be different? Why?\n",
    "    </ul>\n",
    "<li>  At what temperature should we consider someone's temperature to be \"abnormal\"?\n",
    "    <ul>\n",
    "    <li> Start by computing the margin of error and confidence interval.\n",
    "    </ul>\n",
    "<li>  Is there a significant difference between males and females in normal temperature?\n",
    "    <ul>\n",
    "    <li> What test did you use and why?\n",
    "    <li> Write a story with your conclusion in the context of the original problem.\n",
    "    </ul>\n",
    "</ol>\n",
    "\n",
    "You can include written notes in notebook cells using Markdown: \n",
    "   - In the control panel at the top, choose Cell > Cell Type > Markdown\n",
    "   - Markdown syntax: http://nestacms.com/docs/creating-content/markdown-cheat-sheet\n",
    "\n",
    "#### Resources\n",
    "\n",
    "+ Information and data sources: http://www.amstat.org/publications/jse/datasets/normtemp.txt, http://www.amstat.org/publications/jse/jse_data_archive.htm\n",
    "+ Markdown syntax: http://nestacms.com/docs/creating-content/markdown-cheat-sheet\n",
    "\n",
    "****\n",
    "</div>"
   ]
  },
  {
   "cell_type": "code",
   "execution_count": 5,
   "metadata": {
    "collapsed": false
   },
   "outputs": [],
   "source": [
    "from __future__ import print_function, division\n",
    "\n",
    "import pandas as pd\n",
    "import scipy.stats\n",
    "import matplotlib.pyplot as plt\n",
    "import numpy as np\n",
    "from numpy import array\n",
    "\n",
    "df = pd.read_csv('data/human_body_temperature.csv')"
   ]
  },
  {
   "cell_type": "markdown",
   "metadata": {},
   "source": [
    "### Get mean, standard deviation, and size of people sample"
   ]
  },
  {
   "cell_type": "code",
   "execution_count": 6,
   "metadata": {
    "collapsed": false
   },
   "outputs": [],
   "source": [
    "avg_temp = df.temperature.mean()\n",
    "temp_std = df.temperature.std()\n",
    "samp_size = df.temperature.count()"
   ]
  },
  {
   "cell_type": "markdown",
   "metadata": {},
   "source": [
    "Here I am creating a simple function, sdp \"standard deviation percentage\" to return the percent of the sample within 1, 2, and 3 z scores. Since we already know the sample size is large, if we see that the percentage of the sample with 1, 2, and 3 z scores of the mean is 69%, 94%, and 99% respectively, than we can safely say the distribution is normal"
   ]
  },
  {
   "cell_type": "code",
   "execution_count": 4,
   "metadata": {
    "collapsed": false
   },
   "outputs": [
    {
     "data": {
      "text/plain": [
       "'0.6923076923076923 - 0.9461538461538461 - 0.9923076923076923'"
      ]
     },
     "execution_count": 4,
     "metadata": {},
     "output_type": "execute_result"
    }
   ],
   "source": [
    "def sdp(z_score):\n",
    "    more = avg_temp + (temp_std * z_score)\n",
    "    less = avg_temp - (temp_std * z_score)\n",
    "    temp_range = (df['temperature'] < more) & (df['temperature'] > less)\n",
    "    \n",
    "    count = df.loc[temp_range]['temperature'].count()\n",
    "    \n",
    "    return count/130\n",
    "\n",
    "one_sdp = sdp(1)\n",
    "two_sdp = sdp(2)\n",
    "three_sdp = sdp(3)\n",
    "\n",
    "'{} - {} - {}'.format(one_sdp, two_sdp, three_sdp)"
   ]
  },
  {
   "cell_type": "markdown",
   "metadata": {},
   "source": [
    "Answer 1) Yes the distribution of body temperatures is normal because the sample size is considered large, and the percent of the samples within 1, 2, and 3 standard deviations from the mean is about 69%, 95%, and 99.7%.\n",
    "\n",
    "Answer 2) Yes anything above 30 observations can be considered large, and this has over 100."
   ]
  },
  {
   "cell_type": "markdown",
   "metadata": {},
   "source": [
    "### Estimate population standard deviation\n",
    "To estimate the true population standard deviation, we must divide what we have, the sample standard deviation, by the square root of the sample size."
   ]
  },
  {
   "cell_type": "code",
   "execution_count": 20,
   "metadata": {
    "collapsed": false
   },
   "outputs": [
    {
     "data": {
      "image/png": "[encoded data removed]",
      "text/plain": [
       "<matplotlib.figure.Figure at 0x11c1bf160>"
      ]
     },
     "metadata": {},
     "output_type": "display_data"
    }
   ],
   "source": [
    "pop_std = temp_std/(samp_size**.5)\n",
    "\n",
    "# Create distribution from data getting the mean, quartiles, min, max, and standard deviation\n",
    "pop_dist = scipy.stats.norm(avg_temp, pop_std)\n",
    "\n",
    "def eval_prob_dens_func(rv, num=4):\n",
    "    mean, std = rv.mean(), rv.std()\n",
    "    xs = np.linspace(mean - num*std, mean + num*std, 100)\n",
    "    ys = rv.pdf(xs)\n",
    "    return xs, ys\n",
    "\n",
    "xs, ys = eval_pdf(pop_dist)\n",
    "xst, yst = eval_pdf(pop_dist_t)\n",
    "plt.plot(xs, ys, label='male', linewidth=4)\n",
    "plt.show()"
   ]
  },
  {
   "cell_type": "code",
   "execution_count": 28,
   "metadata": {
    "collapsed": false
   },
   "outputs": [
    {
     "name": "stdout",
     "output_type": "stream",
     "text": [
      "SE 0.0643044168379\n",
      "95% CI: 98.12319411222852 - 98.37526742623304\n"
     ]
    }
   ],
   "source": [
    "def summarize_sampling_distribution(sample_stats, z_score):\n",
    "    z_score_value = sample_stats.std() * z_score\n",
    "    print('SE', sample_stats.std())\n",
    "    print('95% CI: {} - {}'.format(sample_stats.mean() - z_score_value, sample_stats.mean() + z_score_value))\n",
    "\n",
    "summarize_sampling_distribution(pop_dist, 1.96)\n",
    "\n",
    "# 98.123 - 98.375\n",
    "# 98.118 - 98.380"
   ]
  },
  {
   "cell_type": "markdown",
   "metadata": {},
   "source": [
    "3A) After getting a 95% confidence interval for the mean of body temperatures from a true population of men and women, we can be 95% confident that average body temperatures lie somewhere between 98.12 and 98.38 degrees. Anything less or greater than that is considered insignificant for having a p-value less than 5%, so we can safely assume that the true body temperature average is highly unlikely to be 98.6%\n",
    "\n",
    "3B) In this example, it is appropriate to use a Z-Statistic as the sample size is large enough where we don't need to use T-Statistcs. However, using T-Statistics don't give us a much different result, even when using 30 degrees of freedom on a T-Table as anything equal to or less than 30 samples is the threshold for when you should use T-Statistics.\n",
    "\n",
    "4) Since we can safely say with 95% confidence that any sample randomly selected from the true population will be somewhere between 98.12 and 98.38 degrees, it should be considered 'Abnormal' that someone have an average body temperature above or below that. "
   ]
  },
  {
   "cell_type": "markdown",
   "metadata": {},
   "source": [
    "### Establish Null Hypothesis, and Start Getting Statistics of Male and Female Samples.\n",
    "\n",
    "Null Hypothesis = Gender has no effect on body temperature"
   ]
  },
  {
   "cell_type": "code",
   "execution_count": 59,
   "metadata": {
    "collapsed": false
   },
   "outputs": [
    {
     "data": {
      "image/png": "[encoded data removed]",
      "text/plain": [
       "<matplotlib.figure.Figure at 0x11c20a8d0>"
      ]
     },
     "metadata": {},
     "output_type": "display_data"
    }
   ],
   "source": [
    "male_temps = df.loc[df['gender'] == 'M']\n",
    "female_temps = df.loc[df['gender'] == 'F']\n",
    "\n",
    "avg_fem = female_temps.temperature.mean()\n",
    "pop_fem_std = female_temps.temperature.std()/female_temps['gender'].count()**.5\n",
    "\n",
    "avg_male = male_temps.temperature.mean()\n",
    "pop_male_std = male_temps.temperature.std()/male_temps['gender'].count()**.5\n",
    "\n",
    "male_dist = scipy.stats.norm(avg_male, pop_mal_std)\n",
    "female_dist = scipy.stats.norm(avg_fem, pop_fem_std)\n",
    "\n",
    "def eval_pdf(rv, num=4):\n",
    "    mean, std = rv.mean(), rv.std()\n",
    "    xs = np.linspace(mean - num*std, mean + num*std, 100)\n",
    "    ys = rv.pdf(xs)\n",
    "    return xs, ys\n",
    "\n",
    "mxs, mys = eval_pdf(male_dist)\n",
    "plt.plot(mxs, mys, label='male', linewidth=4)\n",
    "plt.axvline(mxs.mean(), color='r', linestyle='dashed', linewidth=2)\n",
    "\n",
    "fxs, fys = eval_pdf(female_dist)\n",
    "plt.plot(fxs, fys, label='female', linewidth=4)\n",
    "plt.title('Female and Male Distributions')\n",
    "plt.axvline(fxs.mean(), color='r', linestyle='dashed', linewidth=2)\n",
    "plt.axis([97.7, 98.8, 0, 5])\n",
    "plt.show()"
   ]
  },
  {
   "cell_type": "markdown",
   "metadata": {},
   "source": [
    "Assuming our Null Hypothesis is correct, we will make the mean of our population distribution of the difference of body temperature between genders, the population male average. The standard deviation, since were getting the probability of the chance that a female's average body temperature is really .3 degrees hotter than males, we will get the z-score away from the mean by dividing the difference in male/female population averages and dividing it by the female population standard deviation."
   ]
  },
  {
   "cell_type": "code",
   "execution_count": 60,
   "metadata": {
    "collapsed": false
   },
   "outputs": [
    {
     "data": {
      "text/plain": [
       "3.136370440145384"
      ]
     },
     "execution_count": 60,
     "metadata": {},
     "output_type": "execute_result"
    }
   ],
   "source": [
    "mean_diff = (avg_fem - avg_male)\n",
    "\n",
    "z_score = mean_diff/pop_fem_std\n",
    "z_score"
   ]
  },
  {
   "cell_type": "markdown",
   "metadata": {},
   "source": [
    "Answer 5A) The probability, or p-value, of a female's average body temperature being .4 degrees hotter than males, being completely chance is .08% meaning we must reject our null hypothesis, and assume that gender does in fact have an effect on body temperature.\n",
    "\n",
    "Answer 5B) For this test I used a two tailed tests since the question only asks if there is 'any' effect on body temperatures by gender. It doesn't ask whether it is a positive or negative effect. \n",
    "\n",
    "Conclusion = With a normally distributed large sample of 130 men and women, we can conclude that the average body temperature is highly unlikely to be 98.6 degrees since with confidence we can say that 99% of any random person chosen from anywhere in the world will be between about 98.1, and 98.4 degrees. This also means that anyone with a body temperature under or above 98.1 to 98.4 degrees should be considered abnormal. There is a considerable difference between a man and a females average body temperatures however, ranging between about 2 degrees above and below a man's average body temperature.  "
   ]
  },
  {
   "cell_type": "code",
   "execution_count": null,
   "metadata": {
    "collapsed": true
   },
   "outputs": [],
   "source": []
  }
 ],
 "metadata": {
  "kernelspec": {
   "display_name": "Python 3",
   "language": "python",
   "name": "python3"
  },
  "language_info": {
   "codemirror_mode": {
    "name": "ipython",
    "version": 3
   },
   "file_extension": ".py",
   "mimetype": "text/x-python",
   "name": "python",
   "nbconvert_exporter": "python",
   "pygments_lexer": "ipython3",
   "version": "3.6.0"
  }
 },
 "nbformat": 4,
 "nbformat_minor": 0
}
