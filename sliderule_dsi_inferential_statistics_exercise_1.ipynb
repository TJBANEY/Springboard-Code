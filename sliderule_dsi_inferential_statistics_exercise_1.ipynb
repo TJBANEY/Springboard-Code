{
 "cells": [
  {
   "cell_type": "markdown",
   "metadata": {},
   "source": [
    "# What is the True Normal Human Body Temperature? \n",
    "\n",
    "#### Background\n",
    "\n",
    "The mean normal body temperature was held to be 37$^{\\circ}$C or 98.6$^{\\circ}$F for more than 120 years since it was first conceptualized and reported by Carl Wunderlich in a famous 1868 book. But, is this value statistically correct?"
   ]
  },
  {
   "cell_type": "markdown",
   "metadata": {},
   "source": [
    "<div class=\"span5 alert alert-info\">\n",
    "<h3>Exercises</h3>\n",
    "\n",
    "<p>In this exercise, you will analyze a dataset of human body temperatures and employ the concepts of hypothesis testing, confidence intervals, and statistical significance.</p>\n",
    "\n",
    "<p>Answer the following questions <b>in this notebook below and submit to your Github account</b>.</p> \n",
    "\n",
    "<ol>\n",
    "<li>  Is the distribution of body temperatures normal? \n",
    "    <ul>\n",
    "    <li> Although this is not a requirement for CLT to hold (read CLT carefully), it gives us some peace of mind that the population may also be normally distributed if we assume that this sample is representative of the population.\n",
    "    </ul>\n",
    "<li>  Is the sample size large? Are the observations independent?\n",
    "    <ul>\n",
    "    <li> Remember that this is a condition for the CLT, and hence the statistical tests we are using, to apply.\n",
    "    </ul>\n",
    "<li>  Is the true population mean really 98.6 degrees F?\n",
    "    <ul>\n",
    "    <li> Would you use a one-sample or two-sample test? Why?\n",
    "    <li> In this situation, is it appropriate to use the $t$ or $z$ statistic? \n",
    "    <li> Now try using the other test. How is the result be different? Why?\n",
    "    </ul>\n",
    "<li>  At what temperature should we consider someone's temperature to be \"abnormal\"?\n",
    "    <ul>\n",
    "    <li> Start by computing the margin of error and confidence interval.\n",
    "    </ul>\n",
    "<li>  Is there a significant difference between males and females in normal temperature?\n",
    "    <ul>\n",
    "    <li> What test did you use and why?\n",
    "    <li> Write a story with your conclusion in the context of the original problem.\n",
    "    </ul>\n",
    "</ol>\n",
    "\n",
    "You can include written notes in notebook cells using Markdown: \n",
    "   - In the control panel at the top, choose Cell > Cell Type > Markdown\n",
    "   - Markdown syntax: http://nestacms.com/docs/creating-content/markdown-cheat-sheet\n",
    "\n",
    "#### Resources\n",
    "\n",
    "+ Information and data sources: http://www.amstat.org/publications/jse/datasets/normtemp.txt, http://www.amstat.org/publications/jse/jse_data_archive.htm\n",
    "+ Markdown syntax: http://nestacms.com/docs/creating-content/markdown-cheat-sheet\n",
    "\n",
    "****\n",
    "</div>"
   ]
  },
  {
   "cell_type": "code",
   "execution_count": 2,
   "metadata": {
    "collapsed": false
   },
   "outputs": [
    {
     "name": "stdout",
     "output_type": "stream",
     "text": [
      "<class 'pandas.core.frame.DataFrame'>\n",
      "RangeIndex: 130 entries, 0 to 129\n",
      "Data columns (total 3 columns):\n",
      "temperature    130 non-null float64\n",
      "gender         130 non-null object\n",
      "heart_rate     130 non-null float64\n",
      "dtypes: float64(2), object(1)\n",
      "memory usage: 3.1+ KB\n"
     ]
    }
   ],
   "source": [
    "from __future__ import print_function, division\n",
    "\n",
    "import pandas as pd\n",
    "import scipy.stats\n",
    "import matplotlib.pyplot as plt\n",
    "import numpy as np\n",
    "from numpy import array\n",
    "\n",
    "df = pd.read_csv('data/human_body_temperature.csv')\n",
    "df.info()"
   ]
  },
  {
   "cell_type": "markdown",
   "metadata": {},
   "source": [
    "### Get mean, and standard deviation of people sample"
   ]
  },
  {
   "cell_type": "code",
   "execution_count": 3,
   "metadata": {
    "collapsed": false
   },
   "outputs": [
    {
     "data": {
      "text/plain": [
       "98.24923076923078"
      ]
     },
     "execution_count": 3,
     "metadata": {},
     "output_type": "execute_result"
    }
   ],
   "source": [
    "avg_temp = df.temperature.mean()\n",
    "temp_std = df.temperature.std()\n",
    "\n",
    "def sdp(std_number):\n",
    "    more = avg_temp + (temp_std * std_number)\n",
    "    less = avg_temp - (temp_std * std_number)\n",
    "    temp_range = (df['temperature'] < more) & (df['temperature'] > less)\n",
    "    \n",
    "    count = df.loc[temp_range]['temperature'].count()\n",
    "    \n",
    "    return count/130\n",
    "\n",
    "avg_temp"
   ]
  },
  {
   "cell_type": "code",
   "execution_count": 4,
   "metadata": {
    "collapsed": false
   },
   "outputs": [
    {
     "data": {
      "text/plain": [
       "'0.6923076923076923 - 0.9461538461538461 - 0.9923076923076923'"
      ]
     },
     "execution_count": 4,
     "metadata": {},
     "output_type": "execute_result"
    }
   ],
   "source": [
    "one_sdp = sdp(1)\n",
    "two_sdp = sdp(2)\n",
    "three_sdp = sdp(3)\n",
    "\n",
    "sdp_range = '{} - {} - {}'.format(one_sdp, two_sdp, three_sdp)\n",
    "sdp_range"
   ]
  },
  {
   "cell_type": "markdown",
   "metadata": {},
   "source": [
    "### The distribution is normal because the percent of the sample within 1, 2, and 3 standard deviations from the mean is about 69%, 95%, and 99.7% as mentioned above.\n",
    "\n",
    "### Observations are independent\n",
    "\n",
    "### Sample is large"
   ]
  },
  {
   "cell_type": "code",
   "execution_count": 5,
   "metadata": {
    "collapsed": false
   },
   "outputs": [
    {
     "data": {
      "image/png": "[encoded data removed]",
      "text/plain": [
       "<matplotlib.figure.Figure at 0x11001d668>"
      ]
     },
     "metadata": {},
     "output_type": "display_data"
    }
   ],
   "source": [
    "# A sample of 130 people and their gender, heart_rate, and body temperature\n",
    "\n",
    "# Create distribution from data getting the mean, quartiles, min, max, and standard deviation\n",
    "temp_dist = scipy.stats.norm(avg_temp, temp_std)\n",
    "\n",
    "def eval_pdf(rv, num=4):\n",
    "    mean, std = rv.mean(), rv.std()\n",
    "    xs = np.linspace(mean - num*std, mean + num*std, 100)\n",
    "    ys = rv.pdf(xs)\n",
    "    return xs, ys\n",
    "\n",
    "xs, ys = eval_pdf(temp_dist)\n",
    "plt.plot(xs, ys, label='male', linewidth=4)\n",
    "plt.show()"
   ]
  },
  {
   "cell_type": "markdown",
   "metadata": {},
   "source": [
    "### 1) Repeat sample model 100 times and get a distribution of sampling means\n",
    "### 2) The mean of that distribution should be very close to the true mean\n",
    "### 3) Get standard deviation of population by dividing std of sample by sqrt of sample size"
   ]
  },
  {
   "cell_type": "code",
   "execution_count": 6,
   "metadata": {
    "collapsed": false
   },
   "outputs": [
    {
     "data": {
      "text/plain": [
       "0.06430441683789101"
      ]
     },
     "execution_count": 6,
     "metadata": {},
     "output_type": "execute_result"
    }
   ],
   "source": [
    "pop_std = temp_std/130**.5\n",
    "pop_std"
   ]
  },
  {
   "cell_type": "markdown",
   "metadata": {
    "collapsed": true
   },
   "source": [
    "### Get distribution of sample means, resampled 10000 times."
   ]
  },
  {
   "cell_type": "code",
   "execution_count": 7,
   "metadata": {
    "collapsed": false
   },
   "outputs": [
    {
     "data": {
      "image/png": "[encoded data removed]",
      "text/plain": [
       "<matplotlib.figure.Figure at 0x1059fcc18>"
      ]
     },
     "metadata": {},
     "output_type": "display_data"
    }
   ],
   "source": [
    "def summarize_sampling_distribution(sample_stats):\n",
    "    print('SE', sample_stats.std())\n",
    "    print('90% CI', np.percentile(sample_stats, [5, 95]))\n",
    "    \n",
    "def create_sampling_dist(sample, resamples=1000):\n",
    "    sample_means = [np.random.choice(sample, len(sample), replace=True).mean() for i in range(resamples)]\n",
    "    return sample_means\n",
    "\n",
    "sample_means = create_sampling_dist(df.temperature, 10000)\n",
    "sm_dev = array(sample_means).std()\n",
    "sm_mean = array(sample_means).mean()\n",
    "\n",
    "sm_dist = scipy.stats.norm(sm_mean, sm_dev)\n",
    "\n",
    "xs, ys = eval_pdf(sm_dist)\n",
    "plt.plot(xs, ys, label='sample statistic', linewidth=4)\n",
    "plt.show()"
   ]
  },
  {
   "cell_type": "code",
   "execution_count": 8,
   "metadata": {
    "collapsed": false
   },
   "outputs": [
    {
     "data": {
      "text/plain": [
       "0.7331831580389454"
      ]
     },
     "execution_count": 8,
     "metadata": {},
     "output_type": "execute_result"
    }
   ],
   "source": [
    "sample_variance = df.temperature.var()\n",
    "sample_variance**.5"
   ]
  },
  {
   "cell_type": "code",
   "execution_count": 9,
   "metadata": {
    "collapsed": false
   },
   "outputs": [
    {
     "data": {
      "text/plain": [
       "0.7331831580389454"
      ]
     },
     "execution_count": 9,
     "metadata": {},
     "output_type": "execute_result"
    }
   ],
   "source": [
    "temp_std"
   ]
  },
  {
   "cell_type": "code",
   "execution_count": 11,
   "metadata": {
    "collapsed": false
   },
   "outputs": [
    {
     "data": {
      "text/plain": [
       "'98.08332537378902 - 98.41513616467253'"
      ]
     },
     "execution_count": 11,
     "metadata": {},
     "output_type": "execute_result"
    }
   ],
   "source": [
    "# Standard deviation of population is std of sample divided by square root of sample size\n",
    "\n",
    "x = temp_std/130**.5\n",
    "y = x * 2.58\n",
    "high_confidence_pop_mean = '{} - {}'.format(avg_temp - y, avg_temp + y)\n",
    "high_confidence_pop_mean"
   ]
  },
  {
   "cell_type": "markdown",
   "metadata": {},
   "source": [
    "## 99% confident that average body temperature of entire planet lies somewhere between 98.08 and 98.41 degrees"
   ]
  },
  {
   "cell_type": "markdown",
   "metadata": {
    "collapsed": true
   },
   "source": [
    "# Answers\n",
    "### 1) Yes the distribution of body temperatures is normal because the sample size is considered large, and the percent of the sample within 1, 2, and 3 standard deviations from the mean is about 69%, 95%, and 99.7%.\n",
    "### 2) The sample size is large, because not only is it larger than 30, considered to be a good threshold for whats large and small, it is also over 100.\n",
    "### 3) After getting a 99% confidence interval for the mean of body temperatures from a true population of men and women, we can be 99% confident that average body temperatures lie somewhere between 98.08 and 98.41 degrees. Also after resampling the sample 10000 times, we found that the mean of the resampling distribution \"A strong shot at the mean of the true population\" is also between 98.2 and 98.3. \n",
    "    * Was this meant to be one tailed vs. two tailed ?\n",
    "    * In this example its good to use Z-Statistics because the sample size is large enough for us to do so.\n",
    "    * Find out how to get T-Stat with Scikit Learn.\n",
    "### 4) Since we can safely say with 99% confidence that any sample randomly selected from the true population will be somewhere between 98.08 and 98.41 degrees, it should be considered 'Abnormal' that we someone has an average body temperature above or below that. \n",
    "### 5) Yes, we can see that from getting a sampling distribution of the difference of means for men and women, we can create a 95% confidence interval that tells us the true difference between men and women, is anywhere between about -2, and +2 which doesn't sound like a lot but is extremely considerable considering anything more than 2 degrees above the normal body temperature is approaching a fever.\n",
    "    * I used a two tailed, Z-stats test because were looking for the most extreme difference on both ends of the distribution since its a distribution of the DIFFERENCE of the means, and since the sample size for the seperated male and female chunks of our sample was still over 30 so it was considered large enough.\n",
    "\n",
    "## Conclusion = With a normally distributed large sample of 130 men and women, we can conclude that the average body temperature is highly unlikely to be 98.6 degrees since with confidence we can say that 99% of any random person chosen from anywhere in the world will be between about 98.1, and 98.4 degrees. This also means that anyone with a body temperature under or above 98.1 to 98.4 degrees should be considered abnormal. There is a considerable difference between a man and a females average body temperatures however, ranging between about 2 degrees above and below a man's average body temperature.  \n",
    "\n",
    "### Things to do better - Find out P-Value for how likely sample female difference of mean was due to sampling chance."
   ]
  },
  {
   "cell_type": "code",
   "execution_count": 58,
   "metadata": {
    "collapsed": false
   },
   "outputs": [
    {
     "data": {
      "image/png": "[encoded data removed]",
      "text/plain": [
       "<matplotlib.figure.Figure at 0x111b76cc0>"
      ]
     },
     "metadata": {},
     "output_type": "display_data"
    },
    {
     "data": {
      "image/png": "[encoded data removed]",
      "text/plain": [
       "<matplotlib.figure.Figure at 0x111b76a58>"
      ]
     },
     "metadata": {},
     "output_type": "display_data"
    }
   ],
   "source": [
    "male_temps = df.loc[df['gender'] == 'M']\n",
    "female_temps = df.loc[df['gender'] == 'F']\n",
    "\n",
    "avg_fem = female_temps.temperature.mean()\n",
    "fem_std = female_temps.temperature.std()\n",
    "\n",
    "avg_mal = male_temps.temperature.mean()\n",
    "mal_std = male_temps.temperature.std()\n",
    "\n",
    "male_dist = scipy.stats.norm(avg_mal, mal_std)\n",
    "female_dist = scipy.stats.norm(avg_fem, fem_std)\n",
    "\n",
    "def eval_pdf(rv, num=4):\n",
    "    mean, std = rv.mean(), rv.std()\n",
    "    xs = np.linspace(mean - num*std, mean + num*std, 100)\n",
    "    ys = rv.pdf(xs)\n",
    "    return xs, ys\n",
    "\n",
    "mxs, mys = eval_pdf(male_dist)\n",
    "plt.plot(mxs, mys, label='male', linewidth=4)\n",
    "plt.title('Male Distribution')\n",
    "plt.axvline(mxs.mean(), color='r', linestyle='dashed', linewidth=2)\n",
    "plt.show()\n",
    "\n",
    "fxs, fys = eval_pdf(female_dist)\n",
    "plt.plot(fxs, fys, label='female', linewidth=4)\n",
    "plt.title('Female Distribution')\n",
    "plt.axvline(fxs.mean(), color='r', linestyle='dashed', linewidth=2)\n",
    "plt.axis([95, 101.2, 0, .6])\n",
    "plt.show()"
   ]
  },
  {
   "cell_type": "code",
   "execution_count": 101,
   "metadata": {
    "collapsed": false
   },
   "outputs": [
    {
     "data": {
      "text/plain": [
       "'-1.709969230769273 - 2.288430769230727'"
      ]
     },
     "execution_count": 101,
     "metadata": {},
     "output_type": "execute_result"
    }
   ],
   "source": [
    "# Difference Sampling Distribution\n",
    "samp_diff_mean = avg_fem - avg_mal\n",
    "samp_diff_mean\n",
    "\n",
    "mal_var = male_temps.temperature.var()\n",
    "fem_var = female_temps.temperature.var()\n",
    "\n",
    "samp_diff_std = (mal_var + fem_var)**.5\n",
    "samp_diff_std\n",
    "\n",
    "# A 95% confidence interval will be 1.96 standard deviations from the mean in both directions\n",
    "stds_value = 1.02 * 1.96\n",
    "interval = '{} - {}'.format(samp_diff_mean - stds_value, samp_diff_mean + stds_value)\n",
    "interval\n",
    "\n",
    "# Using the sample, we can be confident that 95% of all samples from a distribution of the differences of the \n",
    "# True male and female population will be somewhere between -1.71, and 2.29"
   ]
  },
  {
   "cell_type": "markdown",
   "metadata": {},
   "source": [
    "# Sanity Check"
   ]
  },
  {
   "cell_type": "code",
   "execution_count": 100,
   "metadata": {
    "collapsed": false
   },
   "outputs": [
    {
     "data": {
      "image/png": "[encoded data removed]",
      "text/plain": [
       "<matplotlib.figure.Figure at 0x111bc5898>"
      ]
     },
     "metadata": {},
     "output_type": "display_data"
    }
   ],
   "source": [
    "def summarize_sampling_distribution(sample_stats):\n",
    "    print('SE', sample_stats.std())\n",
    "    print('90% CI', np.percentile(sample_stats, [5, 95]))\n",
    "    \n",
    "def create_sampling_diff_dist(sample1, sample2, resamples=1000):\n",
    "    s1_means = [np.random.choice(sample1, len(sample1), replace=True).mean() for i in range(resamples)]\n",
    "    s2_means = [np.random.choice(sample1, len(sample2), replace=True).mean() for i in range(resamples)]\n",
    "    sample_diff_means = [(x[0] - x[1]) for x in zip(s1_means, s2_means)]\n",
    "    \n",
    "    return sample_diff_means\n",
    "\n",
    "zip_diffs = create_sampling_diff_dist(female_temps.temperature, male_temps.temperature)\n",
    "\n",
    "sample_diff_means = create_sampling_diff_dist(female_temps.temperature, male_temps.temperature)\n",
    "diff_dev = array(sample_diff_means).std()\n",
    "diff_mean = array(sample_diff_means).mean()\n",
    "\n",
    "diff_dist = scipy.stats.norm(diff_mean, diff_dev)\n",
    "\n",
    "xs, ys = eval_pdf(diff_dist)\n",
    "plt.plot(xs, ys, label='sample statistic', linewidth=4)\n",
    "plt.axvline(xs.mean(), color='b', linestyle='dashed', linewidth=2)\n",
    "plt.axvline(diff_dist.mean() - diff_dist.std(), color='r', linestyle='dashed', linewidth=2)\n",
    "plt.axvline(diff_dist.mean() + diff_dist.std(), color='r', linestyle='dashed', linewidth=2)\n",
    "plt.axvline(diff_dist.mean() - (diff_dist.std() * 1.9), color='g', linestyle='dashed', linewidth=2)\n",
    "plt.axvline(diff_dist.mean() + (diff_dist.std() * 1.9), color='g', linestyle='dashed', linewidth=2)\n",
    "plt.axvline(diff_dist.mean() - (diff_dist.std() * 2), color='g', linestyle='dashed', linewidth=2)\n",
    "plt.axvline(diff_dist.mean() + (diff_dist.std() * 2), color='g', linestyle='dashed', linewidth=2)\n",
    "plt.axvline(diff_dist.mean() - (diff_dist.std() * 3), color='y', linestyle='dashed', linewidth=2)\n",
    "plt.axvline(diff_dist.mean() + (diff_dist.std() * 3), color='y', linestyle='dashed', linewidth=2)\n",
    "plt.title('Male/Female Difference Distribution')\n",
    "plt.show()"
   ]
  },
  {
   "cell_type": "code",
   "execution_count": null,
   "metadata": {
    "collapsed": true
   },
   "outputs": [],
   "source": []
  }
 ],
 "metadata": {
  "kernelspec": {
   "display_name": "Python 3",
   "language": "python",
   "name": "python3"
  },
  "language_info": {
   "codemirror_mode": {
    "name": "ipython",
    "version": 3
   },
   "file_extension": ".py",
   "mimetype": "text/x-python",
   "name": "python",
   "nbconvert_exporter": "python",
   "pygments_lexer": "ipython3",
   "version": "3.6.0"
  }
 },
 "nbformat": 4,
 "nbformat_minor": 0
}
