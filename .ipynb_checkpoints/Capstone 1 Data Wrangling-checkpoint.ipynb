{
 "cells": [
  {
   "cell_type": "markdown",
   "metadata": {},
   "source": [
    "<h1 style=\"font-size: 34px; margin-bottom: 2px; line-height: 12px;\">AirBnB - Capstone Project 1 Data Wrangling</h1>\n",
    "<h3 style=\"line-height: 2px; font-style: italic;\"> Timothy Baney<h3>\n",
    "\n",
    "* <a href=\"#intro\" style=\"color: black; text-decoration: none;\">Introduction</a>\n",
    "* <a href=\"#data-union\" style=\"color: black; text-decoration: none;\">Data Union Diagram</a>\n",
    "* <a href=\"#import\" style=\"color: black; text-decoration: none;\">Import Libraries</a>\n",
    "* <a href=\"#data-dictionaries\" style=\"color: black; text-decoration: none;\">Create Data Dictionaries</a>\n",
    "    * <a href=\"#age-gender\" style=\"color: black; text-decoration: none;\">Age/Gender Buckets</a>\n",
    "    * <a href=\"#countries\" style=\"color: black; text-decoration: none;\">Countries</a>\n",
    "    * <a href=\"#users\" style=\"color: black; text-decoration: none;\">Users</a>\n",
    "    * <a href=\"#sessions\" style=\"color: black; text-decoration: none;\">Sessions</a>\n",
    "* <a href=\"#table-merge\" style=\"color: black; text-decoration: none;\">Merge tables</a>\n",
    "* <a href=\"#final-dict\" style=\"color: black; text-decoration: none;\">Final Data Dictionary</a>\n",
    "* <a href=\"#export\" style=\"color: black; text-decoration: none;\">Export CSV</a> "
   ]
  },
  {
   "cell_type": "markdown",
   "metadata": {},
   "source": [
    "### <p id=\"intro\" style=\"margin-bottom: 0px; line-height: 1px;\">Introduction</p>\n",
    "<p>This notebook was created to handle wrangling the data for my first capstone project at Springboard. The problem is from <a href=\"https://www.kaggle.com/c/airbnb-recruiting-new-user-bookings\" style=\"text-decoration: none; color: blue;\">Kaggle's AirBnB competition</a>, where all the data pulled here was made publicly available. The crux of the problem is to find the best predictions of what country new users on AirBnb will travel to. In this portion, I will first pull in all the data, creating Pandas tables to serve as a dictionary for each datasets columns, column types, and column meanings. Finally I will combine all the data into a cleansed table ready for analysis and predictions.</p>\n",
    "\n",
    "### <p id=\"data-union\">Data Union Diagram</p>\n",
    "Below is a visual aid to show how I will be combining all the different sets of data.\n",
    "\n",
    "<img src=\"clean_intro_layout.png\">"
   ]
  },
  {
   "cell_type": "markdown",
   "metadata": {},
   "source": [
    "### <p id=\"import\">Import Libraries</p>"
   ]
  },
  {
   "cell_type": "code",
   "execution_count": 41,
   "metadata": {
    "collapsed": true
   },
   "outputs": [],
   "source": [
    "import pandas as pd\n",
    "import math\n",
    "import seaborn as sns\n",
    "import matplotlib.pyplot as plt\n",
    "import numpy as np"
   ]
  },
  {
   "cell_type": "code",
   "execution_count": 42,
   "metadata": {
    "collapsed": false
   },
   "outputs": [],
   "source": [
    "age_gender = pd.read_csv('data/age_gender_bkts.csv')\n",
    "countries = pd.read_csv('data/countries.csv')\n",
    "users = pd.read_csv('data/train_users_2.csv')"
   ]
  },
  {
   "cell_type": "markdown",
   "metadata": {},
   "source": [
    "The sessions csv file is very large, and requires a lot of memory to read, so we read it in through chunks, and append the chunks to a list to later be used by pandas to create a dataframe."
   ]
  },
  {
   "cell_type": "code",
   "execution_count": 43,
   "metadata": {
    "collapsed": false
   },
   "outputs": [],
   "source": [
    "session_list = []\n",
    "\n",
    "for chunk in pd.read_csv('data/sessions.csv', chunksize=10000):\n",
    "    session_list.append(chunk)\n",
    "    \n",
    "sessions = pd.concat(session_list)"
   ]
  },
  {
   "cell_type": "markdown",
   "metadata": {},
   "source": [
    "### <p id=\"data-dictionaries\">Create Tables for Data Description</p>\n",
    "\n",
    "### <p id=\"age-gender\">Age/Gender Buckets</p>"
   ]
  },
  {
   "cell_type": "code",
   "execution_count": 44,
   "metadata": {
    "collapsed": false
   },
   "outputs": [
    {
     "data": {
      "text/html": [
       "<div>\n",
       "<table border=\"1\" class=\"dataframe\">\n",
       "  <thead>\n",
       "    <tr style=\"text-align: right;\">\n",
       "      <th></th>\n",
       "      <th>Field</th>\n",
       "      <th>Meaning</th>\n",
       "      <th>Type</th>\n",
       "    </tr>\n",
       "  </thead>\n",
       "  <tbody>\n",
       "    <tr>\n",
       "      <th>0</th>\n",
       "      <td>age_bucket</td>\n",
       "      <td>Age group for observed country</td>\n",
       "      <td>object</td>\n",
       "    </tr>\n",
       "    <tr>\n",
       "      <th>1</th>\n",
       "      <td>country_destination</td>\n",
       "      <td>Country name</td>\n",
       "      <td>object</td>\n",
       "    </tr>\n",
       "    <tr>\n",
       "      <th>2</th>\n",
       "      <td>gender</td>\n",
       "      <td>Gender for observed age group</td>\n",
       "      <td>object</td>\n",
       "    </tr>\n",
       "    <tr>\n",
       "      <th>3</th>\n",
       "      <td>population_in_thousands</td>\n",
       "      <td>Population of gender and age group for country</td>\n",
       "      <td>float64</td>\n",
       "    </tr>\n",
       "    <tr>\n",
       "      <th>4</th>\n",
       "      <td>year</td>\n",
       "      <td>Year census was taken</td>\n",
       "      <td>float64</td>\n",
       "    </tr>\n",
       "  </tbody>\n",
       "</table>\n",
       "</div>"
      ],
      "text/plain": [
       "                     Field                                         Meaning  \\\n",
       "0               age_bucket                  Age group for observed country   \n",
       "1      country_destination                                    Country name   \n",
       "2                   gender                   Gender for observed age group   \n",
       "3  population_in_thousands  Population of gender and age group for country   \n",
       "4                     year                           Year census was taken   \n",
       "\n",
       "      Type  \n",
       "0   object  \n",
       "1   object  \n",
       "2   object  \n",
       "3  float64  \n",
       "4  float64  "
      ]
     },
     "execution_count": 44,
     "metadata": {},
     "output_type": "execute_result"
    }
   ],
   "source": [
    "meaning = [\n",
    "    'Age group for observed country',\n",
    "    'Country name',\n",
    "    'Gender for observed age group',\n",
    "    'Population of gender and age group for country',\n",
    "    'Year census was taken'\n",
    "]\n",
    "\n",
    "age_gender_dict = pd.DataFrame({\n",
    "        \"Field\": age_gender.columns,\n",
    "        \"Type\": [age_gender[col].dtype for col in age_gender.columns],\n",
    "        'Meaning': meaning\n",
    "    })\n",
    "\n",
    "age_gender_dict"
   ]
  },
  {
   "cell_type": "code",
   "execution_count": 45,
   "metadata": {
    "collapsed": false
   },
   "outputs": [
    {
     "data": {
      "text/html": [
       "<div>\n",
       "<table border=\"1\" class=\"dataframe\">\n",
       "  <thead>\n",
       "    <tr style=\"text-align: right;\">\n",
       "      <th></th>\n",
       "      <th>age_bucket</th>\n",
       "      <th>country_destination</th>\n",
       "      <th>gender</th>\n",
       "      <th>population_in_thousands</th>\n",
       "      <th>year</th>\n",
       "    </tr>\n",
       "  </thead>\n",
       "  <tbody>\n",
       "    <tr>\n",
       "      <th>0</th>\n",
       "      <td>100+</td>\n",
       "      <td>AU</td>\n",
       "      <td>male</td>\n",
       "      <td>1.0</td>\n",
       "      <td>2015.0</td>\n",
       "    </tr>\n",
       "    <tr>\n",
       "      <th>1</th>\n",
       "      <td>95-99</td>\n",
       "      <td>AU</td>\n",
       "      <td>male</td>\n",
       "      <td>9.0</td>\n",
       "      <td>2015.0</td>\n",
       "    </tr>\n",
       "    <tr>\n",
       "      <th>2</th>\n",
       "      <td>90-94</td>\n",
       "      <td>AU</td>\n",
       "      <td>male</td>\n",
       "      <td>47.0</td>\n",
       "      <td>2015.0</td>\n",
       "    </tr>\n",
       "    <tr>\n",
       "      <th>3</th>\n",
       "      <td>85-89</td>\n",
       "      <td>AU</td>\n",
       "      <td>male</td>\n",
       "      <td>118.0</td>\n",
       "      <td>2015.0</td>\n",
       "    </tr>\n",
       "  </tbody>\n",
       "</table>\n",
       "</div>"
      ],
      "text/plain": [
       "  age_bucket country_destination gender  population_in_thousands    year\n",
       "0       100+                  AU   male                      1.0  2015.0\n",
       "1      95-99                  AU   male                      9.0  2015.0\n",
       "2      90-94                  AU   male                     47.0  2015.0\n",
       "3      85-89                  AU   male                    118.0  2015.0"
      ]
     },
     "execution_count": 45,
     "metadata": {},
     "output_type": "execute_result"
    }
   ],
   "source": [
    "age_gender.head(4)"
   ]
  },
  {
   "cell_type": "markdown",
   "metadata": {},
   "source": [
    "### <p id=\"countries\">Countries</p>"
   ]
  },
  {
   "cell_type": "code",
   "execution_count": 46,
   "metadata": {
    "collapsed": false
   },
   "outputs": [
    {
     "data": {
      "text/html": [
       "<div>\n",
       "<table border=\"1\" class=\"dataframe\">\n",
       "  <thead>\n",
       "    <tr style=\"text-align: right;\">\n",
       "      <th></th>\n",
       "      <th>Field</th>\n",
       "      <th>Meaning</th>\n",
       "      <th>Type</th>\n",
       "    </tr>\n",
       "  </thead>\n",
       "  <tbody>\n",
       "    <tr>\n",
       "      <th>0</th>\n",
       "      <td>country_destination</td>\n",
       "      <td>Country Name</td>\n",
       "      <td>object</td>\n",
       "    </tr>\n",
       "    <tr>\n",
       "      <th>1</th>\n",
       "      <td>lat_destination</td>\n",
       "      <td>Latitude of country</td>\n",
       "      <td>float64</td>\n",
       "    </tr>\n",
       "    <tr>\n",
       "      <th>2</th>\n",
       "      <td>lng_destination</td>\n",
       "      <td>Longitude of country</td>\n",
       "      <td>float64</td>\n",
       "    </tr>\n",
       "    <tr>\n",
       "      <th>3</th>\n",
       "      <td>distance_km</td>\n",
       "      <td>Unknown</td>\n",
       "      <td>float64</td>\n",
       "    </tr>\n",
       "    <tr>\n",
       "      <th>4</th>\n",
       "      <td>destination_km2</td>\n",
       "      <td>Area of country (in kilometers squared)</td>\n",
       "      <td>float64</td>\n",
       "    </tr>\n",
       "    <tr>\n",
       "      <th>5</th>\n",
       "      <td>destination_language</td>\n",
       "      <td>Native language of country</td>\n",
       "      <td>object</td>\n",
       "    </tr>\n",
       "    <tr>\n",
       "      <th>6</th>\n",
       "      <td>language_levenshtein_distance</td>\n",
       "      <td>Levenshtein difference of strings</td>\n",
       "      <td>float64</td>\n",
       "    </tr>\n",
       "  </tbody>\n",
       "</table>\n",
       "</div>"
      ],
      "text/plain": [
       "                           Field                                  Meaning  \\\n",
       "0            country_destination                             Country Name   \n",
       "1                lat_destination                      Latitude of country   \n",
       "2                lng_destination                     Longitude of country   \n",
       "3                    distance_km                                  Unknown   \n",
       "4                destination_km2  Area of country (in kilometers squared)   \n",
       "5          destination_language                Native language of country   \n",
       "6  language_levenshtein_distance        Levenshtein difference of strings   \n",
       "\n",
       "      Type  \n",
       "0   object  \n",
       "1  float64  \n",
       "2  float64  \n",
       "3  float64  \n",
       "4  float64  \n",
       "5   object  \n",
       "6  float64  "
      ]
     },
     "execution_count": 46,
     "metadata": {},
     "output_type": "execute_result"
    }
   ],
   "source": [
    "country_meanings = [\n",
    "    'Country Name',\n",
    "    'Latitude of country',\n",
    "    'Longitude of country',\n",
    "    'Unknown',\n",
    "    'Area of country (in kilometers squared)',\n",
    "    'Native language of country',\n",
    "    'Levenshtein difference of strings'\n",
    "]\n",
    "\n",
    "countries_dict = pd.DataFrame({\n",
    "        \"Field\": countries.columns,\n",
    "        \"Type\": [countries[col].dtype for col in countries.columns],\n",
    "        \"Meaning\": country_meanings\n",
    "    })\n",
    "\n",
    "countries_dict"
   ]
  },
  {
   "cell_type": "code",
   "execution_count": 47,
   "metadata": {
    "collapsed": false
   },
   "outputs": [
    {
     "data": {
      "text/html": [
       "<div>\n",
       "<table border=\"1\" class=\"dataframe\">\n",
       "  <thead>\n",
       "    <tr style=\"text-align: right;\">\n",
       "      <th></th>\n",
       "      <th>country_destination</th>\n",
       "      <th>lat_destination</th>\n",
       "      <th>lng_destination</th>\n",
       "      <th>distance_km</th>\n",
       "      <th>destination_km2</th>\n",
       "      <th>destination_language</th>\n",
       "      <th>language_levenshtein_distance</th>\n",
       "    </tr>\n",
       "  </thead>\n",
       "  <tbody>\n",
       "    <tr>\n",
       "      <th>0</th>\n",
       "      <td>AU</td>\n",
       "      <td>-26.853388</td>\n",
       "      <td>133.275160</td>\n",
       "      <td>15297.7440</td>\n",
       "      <td>7741220.0</td>\n",
       "      <td>eng</td>\n",
       "      <td>0.00</td>\n",
       "    </tr>\n",
       "    <tr>\n",
       "      <th>1</th>\n",
       "      <td>CA</td>\n",
       "      <td>62.393303</td>\n",
       "      <td>-96.818146</td>\n",
       "      <td>2828.1333</td>\n",
       "      <td>9984670.0</td>\n",
       "      <td>eng</td>\n",
       "      <td>0.00</td>\n",
       "    </tr>\n",
       "    <tr>\n",
       "      <th>2</th>\n",
       "      <td>DE</td>\n",
       "      <td>51.165707</td>\n",
       "      <td>10.452764</td>\n",
       "      <td>7879.5680</td>\n",
       "      <td>357022.0</td>\n",
       "      <td>deu</td>\n",
       "      <td>72.61</td>\n",
       "    </tr>\n",
       "    <tr>\n",
       "      <th>3</th>\n",
       "      <td>ES</td>\n",
       "      <td>39.896027</td>\n",
       "      <td>-2.487694</td>\n",
       "      <td>7730.7240</td>\n",
       "      <td>505370.0</td>\n",
       "      <td>spa</td>\n",
       "      <td>92.25</td>\n",
       "    </tr>\n",
       "  </tbody>\n",
       "</table>\n",
       "</div>"
      ],
      "text/plain": [
       "  country_destination  lat_destination  lng_destination  distance_km  \\\n",
       "0                  AU       -26.853388       133.275160   15297.7440   \n",
       "1                  CA        62.393303       -96.818146    2828.1333   \n",
       "2                  DE        51.165707        10.452764    7879.5680   \n",
       "3                  ES        39.896027        -2.487694    7730.7240   \n",
       "\n",
       "   destination_km2 destination_language   language_levenshtein_distance  \n",
       "0        7741220.0                   eng                           0.00  \n",
       "1        9984670.0                   eng                           0.00  \n",
       "2         357022.0                   deu                          72.61  \n",
       "3         505370.0                   spa                          92.25  "
      ]
     },
     "execution_count": 47,
     "metadata": {},
     "output_type": "execute_result"
    }
   ],
   "source": [
    "countries.head(4)"
   ]
  },
  {
   "cell_type": "markdown",
   "metadata": {},
   "source": [
    "### <p id=\"users\">Users</p>"
   ]
  },
  {
   "cell_type": "code",
   "execution_count": 48,
   "metadata": {
    "collapsed": false
   },
   "outputs": [
    {
     "data": {
      "text/html": [
       "<div>\n",
       "<table border=\"1\" class=\"dataframe\">\n",
       "  <thead>\n",
       "    <tr style=\"text-align: right;\">\n",
       "      <th></th>\n",
       "      <th>Field</th>\n",
       "      <th>Meaning</th>\n",
       "      <th>Type</th>\n",
       "    </tr>\n",
       "  </thead>\n",
       "  <tbody>\n",
       "    <tr>\n",
       "      <th>0</th>\n",
       "      <td>id</td>\n",
       "      <td>User ID</td>\n",
       "      <td>object</td>\n",
       "    </tr>\n",
       "    <tr>\n",
       "      <th>1</th>\n",
       "      <td>date_account_created</td>\n",
       "      <td>User account creation date</td>\n",
       "      <td>object</td>\n",
       "    </tr>\n",
       "    <tr>\n",
       "      <th>2</th>\n",
       "      <td>timestamp_first_active</td>\n",
       "      <td>Timestamp user was first active on site (secon...</td>\n",
       "      <td>int64</td>\n",
       "    </tr>\n",
       "    <tr>\n",
       "      <th>3</th>\n",
       "      <td>date_first_booking</td>\n",
       "      <td>Date user first booked a trip</td>\n",
       "      <td>object</td>\n",
       "    </tr>\n",
       "    <tr>\n",
       "      <th>4</th>\n",
       "      <td>gender</td>\n",
       "      <td>Gender</td>\n",
       "      <td>object</td>\n",
       "    </tr>\n",
       "    <tr>\n",
       "      <th>5</th>\n",
       "      <td>age</td>\n",
       "      <td>Age</td>\n",
       "      <td>float64</td>\n",
       "    </tr>\n",
       "    <tr>\n",
       "      <th>6</th>\n",
       "      <td>signup_method</td>\n",
       "      <td>Method user used to signup e.g. Facebook</td>\n",
       "      <td>object</td>\n",
       "    </tr>\n",
       "    <tr>\n",
       "      <th>7</th>\n",
       "      <td>signup_flow</td>\n",
       "      <td>The page a user came to signup up from</td>\n",
       "      <td>int64</td>\n",
       "    </tr>\n",
       "    <tr>\n",
       "      <th>8</th>\n",
       "      <td>language</td>\n",
       "      <td>International language preference</td>\n",
       "      <td>object</td>\n",
       "    </tr>\n",
       "    <tr>\n",
       "      <th>9</th>\n",
       "      <td>affiliate_channel</td>\n",
       "      <td>Kind of paid marketing that brought user to site</td>\n",
       "      <td>object</td>\n",
       "    </tr>\n",
       "    <tr>\n",
       "      <th>10</th>\n",
       "      <td>affiliate_provider</td>\n",
       "      <td>Source of marketing</td>\n",
       "      <td>object</td>\n",
       "    </tr>\n",
       "    <tr>\n",
       "      <th>11</th>\n",
       "      <td>first_affiliate_tracked</td>\n",
       "      <td>First marketing the user interacted with befor...</td>\n",
       "      <td>object</td>\n",
       "    </tr>\n",
       "    <tr>\n",
       "      <th>12</th>\n",
       "      <td>signup_app</td>\n",
       "      <td>App used to sign up</td>\n",
       "      <td>object</td>\n",
       "    </tr>\n",
       "    <tr>\n",
       "      <th>13</th>\n",
       "      <td>first_device_type</td>\n",
       "      <td>First device used to go to site</td>\n",
       "      <td>object</td>\n",
       "    </tr>\n",
       "    <tr>\n",
       "      <th>14</th>\n",
       "      <td>first_browser</td>\n",
       "      <td>First browser used to go to site</td>\n",
       "      <td>object</td>\n",
       "    </tr>\n",
       "    <tr>\n",
       "      <th>15</th>\n",
       "      <td>country_destination</td>\n",
       "      <td>Country user booked a trip to</td>\n",
       "      <td>object</td>\n",
       "    </tr>\n",
       "  </tbody>\n",
       "</table>\n",
       "</div>"
      ],
      "text/plain": [
       "                      Field  \\\n",
       "0                        id   \n",
       "1      date_account_created   \n",
       "2    timestamp_first_active   \n",
       "3        date_first_booking   \n",
       "4                    gender   \n",
       "5                       age   \n",
       "6             signup_method   \n",
       "7               signup_flow   \n",
       "8                  language   \n",
       "9         affiliate_channel   \n",
       "10       affiliate_provider   \n",
       "11  first_affiliate_tracked   \n",
       "12               signup_app   \n",
       "13        first_device_type   \n",
       "14            first_browser   \n",
       "15      country_destination   \n",
       "\n",
       "                                              Meaning     Type  \n",
       "0                                             User ID   object  \n",
       "1                          User account creation date   object  \n",
       "2   Timestamp user was first active on site (secon...    int64  \n",
       "3                       Date user first booked a trip   object  \n",
       "4                                              Gender   object  \n",
       "5                                                 Age  float64  \n",
       "6            Method user used to signup e.g. Facebook   object  \n",
       "7              The page a user came to signup up from    int64  \n",
       "8                   International language preference   object  \n",
       "9    Kind of paid marketing that brought user to site   object  \n",
       "10                                Source of marketing   object  \n",
       "11  First marketing the user interacted with befor...   object  \n",
       "12                                App used to sign up   object  \n",
       "13                    First device used to go to site   object  \n",
       "14                   First browser used to go to site   object  \n",
       "15                      Country user booked a trip to   object  "
      ]
     },
     "execution_count": 48,
     "metadata": {},
     "output_type": "execute_result"
    }
   ],
   "source": [
    "user_meanings = [\n",
    "    'User ID',\n",
    "    'User account creation date',\n",
    "    'Timestamp user was first active on site (seconds since January 1, 1970)',\n",
    "    'Date user first booked a trip',\n",
    "    'Gender',\n",
    "    'Age',\n",
    "    'Method user used to signup e.g. Facebook',\n",
    "    'The page a user came to signup up from',\n",
    "    'International language preference',\n",
    "    'Kind of paid marketing that brought user to site',\n",
    "    'Source of marketing',\n",
    "    'First marketing the user interacted with before signing up',\n",
    "    'App used to sign up',\n",
    "    'First device used to go to site',\n",
    "    'First browser used to go to site',\n",
    "    'Country user booked a trip to'\n",
    "]\n",
    "\n",
    "users_dict = pd.DataFrame({\n",
    "        \"Field\": users.columns,\n",
    "        \"Type\": [users[col].dtype for col in users.columns],\n",
    "        \"Meaning\": user_meanings\n",
    "    })\n",
    "\n",
    "users_dict"
   ]
  },
  {
   "cell_type": "code",
   "execution_count": 49,
   "metadata": {
    "collapsed": false
   },
   "outputs": [
    {
     "data": {
      "text/html": [
       "<div>\n",
       "<table border=\"1\" class=\"dataframe\">\n",
       "  <thead>\n",
       "    <tr style=\"text-align: right;\">\n",
       "      <th></th>\n",
       "      <th>id</th>\n",
       "      <th>date_account_created</th>\n",
       "      <th>timestamp_first_active</th>\n",
       "      <th>date_first_booking</th>\n",
       "      <th>gender</th>\n",
       "      <th>age</th>\n",
       "      <th>signup_method</th>\n",
       "      <th>signup_flow</th>\n",
       "      <th>language</th>\n",
       "      <th>affiliate_channel</th>\n",
       "      <th>affiliate_provider</th>\n",
       "      <th>first_affiliate_tracked</th>\n",
       "      <th>signup_app</th>\n",
       "      <th>first_device_type</th>\n",
       "      <th>first_browser</th>\n",
       "      <th>country_destination</th>\n",
       "    </tr>\n",
       "  </thead>\n",
       "  <tbody>\n",
       "    <tr>\n",
       "      <th>0</th>\n",
       "      <td>gxn3p5htnn</td>\n",
       "      <td>2010-06-28</td>\n",
       "      <td>20090319043255</td>\n",
       "      <td>NaN</td>\n",
       "      <td>-unknown-</td>\n",
       "      <td>NaN</td>\n",
       "      <td>facebook</td>\n",
       "      <td>0</td>\n",
       "      <td>en</td>\n",
       "      <td>direct</td>\n",
       "      <td>direct</td>\n",
       "      <td>untracked</td>\n",
       "      <td>Web</td>\n",
       "      <td>Mac Desktop</td>\n",
       "      <td>Chrome</td>\n",
       "      <td>NDF</td>\n",
       "    </tr>\n",
       "    <tr>\n",
       "      <th>1</th>\n",
       "      <td>820tgsjxq7</td>\n",
       "      <td>2011-05-25</td>\n",
       "      <td>20090523174809</td>\n",
       "      <td>NaN</td>\n",
       "      <td>MALE</td>\n",
       "      <td>38.0</td>\n",
       "      <td>facebook</td>\n",
       "      <td>0</td>\n",
       "      <td>en</td>\n",
       "      <td>seo</td>\n",
       "      <td>google</td>\n",
       "      <td>untracked</td>\n",
       "      <td>Web</td>\n",
       "      <td>Mac Desktop</td>\n",
       "      <td>Chrome</td>\n",
       "      <td>NDF</td>\n",
       "    </tr>\n",
       "    <tr>\n",
       "      <th>2</th>\n",
       "      <td>4ft3gnwmtx</td>\n",
       "      <td>2010-09-28</td>\n",
       "      <td>20090609231247</td>\n",
       "      <td>2010-08-02</td>\n",
       "      <td>FEMALE</td>\n",
       "      <td>56.0</td>\n",
       "      <td>basic</td>\n",
       "      <td>3</td>\n",
       "      <td>en</td>\n",
       "      <td>direct</td>\n",
       "      <td>direct</td>\n",
       "      <td>untracked</td>\n",
       "      <td>Web</td>\n",
       "      <td>Windows Desktop</td>\n",
       "      <td>IE</td>\n",
       "      <td>US</td>\n",
       "    </tr>\n",
       "    <tr>\n",
       "      <th>3</th>\n",
       "      <td>bjjt8pjhuk</td>\n",
       "      <td>2011-12-05</td>\n",
       "      <td>20091031060129</td>\n",
       "      <td>2012-09-08</td>\n",
       "      <td>FEMALE</td>\n",
       "      <td>42.0</td>\n",
       "      <td>facebook</td>\n",
       "      <td>0</td>\n",
       "      <td>en</td>\n",
       "      <td>direct</td>\n",
       "      <td>direct</td>\n",
       "      <td>untracked</td>\n",
       "      <td>Web</td>\n",
       "      <td>Mac Desktop</td>\n",
       "      <td>Firefox</td>\n",
       "      <td>other</td>\n",
       "    </tr>\n",
       "  </tbody>\n",
       "</table>\n",
       "</div>"
      ],
      "text/plain": [
       "           id date_account_created  timestamp_first_active date_first_booking  \\\n",
       "0  gxn3p5htnn           2010-06-28          20090319043255                NaN   \n",
       "1  820tgsjxq7           2011-05-25          20090523174809                NaN   \n",
       "2  4ft3gnwmtx           2010-09-28          20090609231247         2010-08-02   \n",
       "3  bjjt8pjhuk           2011-12-05          20091031060129         2012-09-08   \n",
       "\n",
       "      gender   age signup_method  signup_flow language affiliate_channel  \\\n",
       "0  -unknown-   NaN      facebook            0       en            direct   \n",
       "1       MALE  38.0      facebook            0       en               seo   \n",
       "2     FEMALE  56.0         basic            3       en            direct   \n",
       "3     FEMALE  42.0      facebook            0       en            direct   \n",
       "\n",
       "  affiliate_provider first_affiliate_tracked signup_app first_device_type  \\\n",
       "0             direct               untracked        Web       Mac Desktop   \n",
       "1             google               untracked        Web       Mac Desktop   \n",
       "2             direct               untracked        Web   Windows Desktop   \n",
       "3             direct               untracked        Web       Mac Desktop   \n",
       "\n",
       "  first_browser country_destination  \n",
       "0        Chrome                 NDF  \n",
       "1        Chrome                 NDF  \n",
       "2            IE                  US  \n",
       "3       Firefox               other  "
      ]
     },
     "execution_count": 49,
     "metadata": {},
     "output_type": "execute_result"
    }
   ],
   "source": [
    "users.head(4)"
   ]
  },
  {
   "cell_type": "markdown",
   "metadata": {},
   "source": [
    "### <p id=\"sessions\">Sessions</p>"
   ]
  },
  {
   "cell_type": "code",
   "execution_count": 50,
   "metadata": {
    "collapsed": false
   },
   "outputs": [
    {
     "data": {
      "text/html": [
       "<div>\n",
       "<table border=\"1\" class=\"dataframe\">\n",
       "  <thead>\n",
       "    <tr style=\"text-align: right;\">\n",
       "      <th></th>\n",
       "      <th>Field</th>\n",
       "      <th>Meaning</th>\n",
       "      <th>Type</th>\n",
       "    </tr>\n",
       "  </thead>\n",
       "  <tbody>\n",
       "    <tr>\n",
       "      <th>0</th>\n",
       "      <td>user_id</td>\n",
       "      <td>User ID</td>\n",
       "      <td>object</td>\n",
       "    </tr>\n",
       "    <tr>\n",
       "      <th>1</th>\n",
       "      <td>action</td>\n",
       "      <td>Action of user on site, e.g. search results</td>\n",
       "      <td>object</td>\n",
       "    </tr>\n",
       "    <tr>\n",
       "      <th>2</th>\n",
       "      <td>action_type</td>\n",
       "      <td>Type of the action e.g. click, view</td>\n",
       "      <td>object</td>\n",
       "    </tr>\n",
       "    <tr>\n",
       "      <th>3</th>\n",
       "      <td>action_detail</td>\n",
       "      <td>Verbose description of action</td>\n",
       "      <td>object</td>\n",
       "    </tr>\n",
       "    <tr>\n",
       "      <th>4</th>\n",
       "      <td>device_type</td>\n",
       "      <td>Device used when performing action</td>\n",
       "      <td>object</td>\n",
       "    </tr>\n",
       "    <tr>\n",
       "      <th>5</th>\n",
       "      <td>secs_elapsed</td>\n",
       "      <td>Seconds elapsed while performing action</td>\n",
       "      <td>float64</td>\n",
       "    </tr>\n",
       "  </tbody>\n",
       "</table>\n",
       "</div>"
      ],
      "text/plain": [
       "           Field                                      Meaning     Type\n",
       "0        user_id                                      User ID   object\n",
       "1         action  Action of user on site, e.g. search results   object\n",
       "2    action_type          Type of the action e.g. click, view   object\n",
       "3  action_detail                Verbose description of action   object\n",
       "4    device_type           Device used when performing action   object\n",
       "5   secs_elapsed      Seconds elapsed while performing action  float64"
      ]
     },
     "execution_count": 50,
     "metadata": {},
     "output_type": "execute_result"
    }
   ],
   "source": [
    "sessions_meanings = [\n",
    "    \"User ID\",\n",
    "    \"Action of user on site, e.g. search results\",\n",
    "    \"Type of the action e.g. click, view\",\n",
    "    \"Verbose description of action\",\n",
    "    \"Device used when performing action\",\n",
    "    \"Seconds elapsed while performing action\"\n",
    "]\n",
    "\n",
    "sessions_dict = pd.DataFrame({\n",
    "        \"Field\": sessions.columns,\n",
    "        \"Type\": [sessions[col].dtype for col in sessions.columns],\n",
    "        \"Meaning\": sessions_meanings\n",
    "    })\n",
    "\n",
    "sessions_dict"
   ]
  },
  {
   "cell_type": "code",
   "execution_count": 51,
   "metadata": {
    "collapsed": false
   },
   "outputs": [
    {
     "data": {
      "text/html": [
       "<div>\n",
       "<table border=\"1\" class=\"dataframe\">\n",
       "  <thead>\n",
       "    <tr style=\"text-align: right;\">\n",
       "      <th></th>\n",
       "      <th>user_id</th>\n",
       "      <th>action</th>\n",
       "      <th>action_type</th>\n",
       "      <th>action_detail</th>\n",
       "      <th>device_type</th>\n",
       "      <th>secs_elapsed</th>\n",
       "    </tr>\n",
       "  </thead>\n",
       "  <tbody>\n",
       "    <tr>\n",
       "      <th>0</th>\n",
       "      <td>d1mm9tcy42</td>\n",
       "      <td>lookup</td>\n",
       "      <td>NaN</td>\n",
       "      <td>NaN</td>\n",
       "      <td>Windows Desktop</td>\n",
       "      <td>319.0</td>\n",
       "    </tr>\n",
       "    <tr>\n",
       "      <th>1</th>\n",
       "      <td>d1mm9tcy42</td>\n",
       "      <td>search_results</td>\n",
       "      <td>click</td>\n",
       "      <td>view_search_results</td>\n",
       "      <td>Windows Desktop</td>\n",
       "      <td>67753.0</td>\n",
       "    </tr>\n",
       "    <tr>\n",
       "      <th>2</th>\n",
       "      <td>d1mm9tcy42</td>\n",
       "      <td>lookup</td>\n",
       "      <td>NaN</td>\n",
       "      <td>NaN</td>\n",
       "      <td>Windows Desktop</td>\n",
       "      <td>301.0</td>\n",
       "    </tr>\n",
       "    <tr>\n",
       "      <th>3</th>\n",
       "      <td>d1mm9tcy42</td>\n",
       "      <td>search_results</td>\n",
       "      <td>click</td>\n",
       "      <td>view_search_results</td>\n",
       "      <td>Windows Desktop</td>\n",
       "      <td>22141.0</td>\n",
       "    </tr>\n",
       "  </tbody>\n",
       "</table>\n",
       "</div>"
      ],
      "text/plain": [
       "      user_id          action action_type        action_detail  \\\n",
       "0  d1mm9tcy42          lookup         NaN                  NaN   \n",
       "1  d1mm9tcy42  search_results       click  view_search_results   \n",
       "2  d1mm9tcy42          lookup         NaN                  NaN   \n",
       "3  d1mm9tcy42  search_results       click  view_search_results   \n",
       "\n",
       "       device_type  secs_elapsed  \n",
       "0  Windows Desktop         319.0  \n",
       "1  Windows Desktop       67753.0  \n",
       "2  Windows Desktop         301.0  \n",
       "3  Windows Desktop       22141.0  "
      ]
     },
     "execution_count": 51,
     "metadata": {},
     "output_type": "execute_result"
    }
   ],
   "source": [
    "sessions.head(4)"
   ]
  },
  {
   "cell_type": "markdown",
   "metadata": {},
   "source": [
    "### <p id=\"table-merge\">Merge Tables</p>\n",
    "I will now merge all the tables together. After refining what is needed from the sessions table, we will first perform an outer join on the users table, and the countries table on the 'country destination' column. After that I will join in the age/gender buckets table to the newly formed country/destination table on 3 fields: age, gender, and country destination. Finally I will bring in the refined sessions table with a left join on the user ID field."
   ]
  },
  {
   "cell_type": "code",
   "execution_count": null,
   "metadata": {
    "collapsed": false
   },
   "outputs": [],
   "source": [
    "from sklearn import preprocessing\n",
    "\n",
    "def sessions_stats(group):\n",
    "    group.fillna(0, inplace=True)\n",
    "\n",
    "    if group.count() == 0:\n",
    "        return {'sessions_total_duration': group.max() - group.min(),\n",
    "                'average_action_duration': 0,\n",
    "                'actions_total_count': 0}\n",
    "    else:\n",
    "        return {'sessions_total_duration': group.max() - group.min(),\n",
    "                'average_action_duration': (group.max() - group.min()) / group.count(),\n",
    "                'actions_total_count': group.count()}\n",
    "\n",
    "def main():\n",
    "    # two scalers we use\n",
    "    sessions_scaler = preprocessing.MinMaxScaler(feature_range=(0, 100))\n",
    "    action_scaler = lambda x: np.sqrt(x/3600)\n",
    "\n",
    "    df_sessions = sessions\n",
    "\n",
    "    # gather sessions total & average durations from 'secs_elapsed' column,\n",
    "    # which will be droped lately, apply external function\n",
    "    df_sstats = df_sessions['secs_elapsed'].groupby(\n",
    "        df_sessions['user_id'] ).apply(sessions_stats).unstack()\n",
    "\n",
    "    # scale features for better distribution\n",
    "    df_sstats['actions_total_count'] = df_sstats['actions_total_count'].apply(action_scaler)\n",
    "    df_sstats['average_action_duration'] = df_sstats['average_action_duration'].apply(action_scaler)\n",
    "    \n",
    "    # normalization of new features + convert them to int\n",
    "    # to avoid possible later scientific notation\n",
    "    normalize_feats = ['actions_total_count',\n",
    "        'average_action_duration', 'sessions_total_duration']\n",
    "    for f in normalize_feats:\n",
    "        df_sstats[f] = sessions_scaler.fit_transform(df_sstats[f].reshape(-1, 1)).astype(int)\n",
    "\n",
    "    sessions_done = pd.DataFrame(df_sstats).to_csv('./sessions_done.csv',\n",
    "        sep=',', header=True, index=True)\n",
    "    \n",
    "main()\n",
    "\n",
    "new_sessions = pd.read_csv('sessions_done.csv')"
   ]
  },
  {
   "cell_type": "markdown",
   "metadata": {},
   "source": [
    "<img src=\"users_country_merge.png\">"
   ]
  },
  {
   "cell_type": "code",
   "execution_count": null,
   "metadata": {
    "collapsed": false
   },
   "outputs": [],
   "source": [
    "user_and_country = pd.merge(users, countries, how='outer', on='country_destination')\n",
    "user_and_country['gender'] = user_and_country['gender'].str.lower()\n",
    "\n",
    "new_sessions = new_sessions.rename(columns={'user_id': 'id'})"
   ]
  },
  {
   "cell_type": "code",
   "execution_count": null,
   "metadata": {
    "collapsed": false
   },
   "outputs": [],
   "source": [
    "def getAgeList(row):\n",
    "    clean_age = row['age_bucket'].replace('+', '')\n",
    "    min_max = clean_age.split('-')\n",
    "    \n",
    "    if len(min_max) > 1:\n",
    "        min_max = list(range(int(min_max[0]), int(min_max[1]) + 1))\n",
    "    return min_max\n",
    "\n",
    "age_gender['age_list'] = age_gender.apply(lambda x: getAgeList(x), axis=1)"
   ]
  },
  {
   "cell_type": "markdown",
   "metadata": {},
   "source": [
    "<img src=\"user_country_bucket_merge.png\">"
   ]
  },
  {
   "cell_type": "code",
   "execution_count": null,
   "metadata": {
    "collapsed": false
   },
   "outputs": [],
   "source": [
    "l = age_gender['age_list'].str.len()\n",
    "cols = age_gender.columns.difference(['age_list'])\n",
    "\n",
    "df = pd.DataFrame({col: np.repeat(age_gender[col].values, l) for col in cols})\n",
    "df['age'] = np.concatenate(age_gender['age_list'].values).astype(int)\n",
    "\n",
    "user_country_buckets = pd.merge(df, user_and_country, how=\"outer\", on=['age', 'country_destination', 'gender'])\n",
    "user_country_buckets = user_country_buckets.drop('age_bucket', axis=1)\n",
    "user_country_buckets = user_country_buckets.drop('year', axis=1)\n",
    "\n",
    "user_country_buckets = user_country_buckets.rename(columns={'population_in_thousands': 'dest_age_pop'})\n",
    "user_country_buckets.head(5)"
   ]
  },
  {
   "cell_type": "markdown",
   "metadata": {},
   "source": [
    "<img src=\"final_merge.png\">"
   ]
  },
  {
   "cell_type": "code",
   "execution_count": null,
   "metadata": {
    "collapsed": false
   },
   "outputs": [],
   "source": [
    "final_airbnb = pd.merge(user_country_buckets, new_sessions, how=\"left\", on=\"id\")"
   ]
  },
  {
   "cell_type": "code",
   "execution_count": null,
   "metadata": {
    "collapsed": false
   },
   "outputs": [],
   "source": [
    "ucb = final_airbnb.copy()\n",
    "row_count = ucb.shape[0]\n",
    "\n",
    "def fillCountry(row, country):\n",
    "    if row['country_destination'] == country:\n",
    "        return 1\n",
    "    else:\n",
    "        return 0\n",
    "\n",
    "empty_array = np.zeros(row_count)\n",
    "for c in ['US', 'FR', 'IT', 'GB', 'ES', 'CA', 'DE', 'NL', 'AU', 'PT']:\n",
    "    ucb[c] = empty_array\n",
    "    ucb[c] = ucb.apply(lambda x: fillCountry(x, c), axis=1)\n",
    "\n",
    "ucb['gender'] = ucb['gender'].astype('category')"
   ]
  },
  {
   "cell_type": "markdown",
   "metadata": {},
   "source": [
    "### <p id=\"final-dict\">Final Data Dictionary</p>\n",
    "All the data has now been merged together into one Pandas table that can now be used for exploration. The user table was outer joined with the country table, which was than outer joined with the age buckets dataframe on age, gender, and country destination. It was finally left joined with a refined sessions table. All together I now have a dataframe with 36 different columns, and about 214,000 rows."
   ]
  },
  {
   "cell_type": "code",
   "execution_count": null,
   "metadata": {
    "collapsed": false
   },
   "outputs": [],
   "source": [
    "ucb_categories = ['signup_method', 'language', 'affiliate_channel', 'affiliate_provider', 'first_affiliate_tracked', 'signup_app', 'first_device_type', 'first_browser']\n",
    "\n",
    "for col in ucb_categories:\n",
    "    ucb[col] = ucb[col].astype('category')"
   ]
  },
  {
   "cell_type": "code",
   "execution_count": null,
   "metadata": {
    "collapsed": false
   },
   "outputs": [],
   "source": [
    "ucb_meaning = [\n",
    "    'Country traveled to',\n",
    "    'Gender',\n",
    "    'Population of the users age group for their destination',\n",
    "    'Age',\n",
    "    'User ID',\n",
    "    'User account creation date',\n",
    "    'Timestamp user was first active on site (seconds since January 1, 1970)',\n",
    "    'Date user first booked a trip',\n",
    "    'Method user used to signup e.g. Facebook',\n",
    "    'The page a user came to signup up from',\n",
    "    'International language preference',\n",
    "    'Kind of paid marketing that brought user to site',\n",
    "    'Source of marketing',\n",
    "    'First marketing the user interacted with before signing up',\n",
    "    'App used to sign up',\n",
    "    'First device used to go to site',\n",
    "    'First browser used to go to site',\n",
    "    'Latitude of country',\n",
    "    'Longitude of country',\n",
    "    'Unknown',\n",
    "    'Area of country (in kilometers squared)',\n",
    "    'Native language of country',\n",
    "    'Language Levenshtein Distance',\n",
    "    'Total actions performed on site e.g. click, search, view',\n",
    "    'Average duration of site actions \"in seconds\"',\n",
    "    'Average duration of session when using site',\n",
    "    'Boolean value for US visit',\n",
    "    'Boolean value for France visit',\n",
    "    'Boolean value for Italy visit',\n",
    "    'Boolean value for Great Britian visit',\n",
    "    'Boolean value for Spain visit',\n",
    "    'Boolean value for Canada visit',\n",
    "    'Boolean vlaue for Denmark visit',\n",
    "    'Boolean value for Netherlands visit',\n",
    "    'Boolean value for Australia visit',\n",
    "    'Boolean value for Portugal visit'\n",
    "]\n",
    "\n",
    "ucb_dict = pd.DataFrame({\n",
    "        \"Field\": ucb.columns,\n",
    "        \"Type\": [ucb[col].dtype for col in ucb.columns],\n",
    "        'Meaning': ucb_meaning\n",
    "    })\n",
    "\n",
    "ucb_dict"
   ]
  },
  {
   "cell_type": "markdown",
   "metadata": {},
   "source": [
    "### <p id=\"export\">Export</p>"
   ]
  },
  {
   "cell_type": "code",
   "execution_count": null,
   "metadata": {
    "collapsed": true
   },
   "outputs": [],
   "source": [
    "ucb.to_csv('clean_airbnb.csv', index=False)"
   ]
  },
  {
   "cell_type": "code",
   "execution_count": null,
   "metadata": {
    "collapsed": true
   },
   "outputs": [],
   "source": []
  }
 ],
 "metadata": {
  "kernelspec": {
   "display_name": "Python 3",
   "language": "python",
   "name": "python3"
  },
  "language_info": {
   "codemirror_mode": {
    "name": "ipython",
    "version": 3
   },
   "file_extension": ".py",
   "mimetype": "text/x-python",
   "name": "python",
   "nbconvert_exporter": "python",
   "pygments_lexer": "ipython3",
   "version": "3.6.0"
  }
 },
 "nbformat": 4,
 "nbformat_minor": 2
}
