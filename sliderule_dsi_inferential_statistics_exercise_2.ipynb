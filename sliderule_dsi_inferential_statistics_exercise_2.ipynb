{
 "cells": [
  {
   "cell_type": "markdown",
   "metadata": {},
   "source": [
    "# Examining Racial Discrimination in the US Job Market\n",
    "\n",
    "### Background\n",
    "Racial discrimination continues to be pervasive in cultures throughout the world. Researchers examined the level of racial discrimination in the United States labor market by randomly assigning identical résumés to black-sounding or white-sounding names and observing the impact on requests for interviews from employers.\n",
    "\n",
    "### Data\n",
    "In the dataset provided, each row represents a resume. The 'race' column has two values, 'b' and 'w', indicating black-sounding and white-sounding. The column 'call' has two values, 1 and 0, indicating whether the resume received a call from employers or not.\n",
    "\n",
    "Note that the 'b' and 'w' values in race are assigned randomly to the resumes when presented to the employer."
   ]
  },
  {
   "cell_type": "markdown",
   "metadata": {},
   "source": [
    "<div class=\"span5 alert alert-info\">\n",
    "### Exercises\n",
    "You will perform a statistical analysis to establish whether race has a significant impact on the rate of callbacks for resumes.\n",
    "\n",
    "Answer the following questions **in this notebook below and submit to your Github account**. \n",
    "\n",
    "   1. What test is appropriate for this problem? Does CLT apply?\n",
    "   2. What are the null and alternate hypotheses?\n",
    "   3. Compute margin of error, confidence interval, and p-value.\n",
    "   4. Write a story describing the statistical significance in the context or the original problem.\n",
    "   5. Does your analysis mean that race/name is the most important factor in callback success? Why or why not? If not, how would you amend your analysis?\n",
    "\n",
    "You can include written notes in notebook cells using Markdown: \n",
    "   - In the control panel at the top, choose Cell > Cell Type > Markdown\n",
    "   - Markdown syntax: http://nestacms.com/docs/creating-content/markdown-cheat-sheet\n",
    "\n",
    "\n",
    "#### Resources\n",
    "+ Experiment information and data source: http://www.povertyactionlab.org/evaluation/discrimination-job-market-united-states\n",
    "+ Scipy statistical methods: http://docs.scipy.org/doc/scipy/reference/stats.html \n",
    "+ Markdown syntax: http://nestacms.com/docs/creating-content/markdown-cheat-sheet\n",
    "</div>\n",
    "****"
   ]
  },
  {
   "cell_type": "code",
   "execution_count": 2,
   "metadata": {
    "collapsed": true
   },
   "outputs": [],
   "source": [
    "from __future__ import print_function, division\n",
    "\n",
    "import pandas as pd\n",
    "import numpy as np\n",
    "from scipy import stats\n",
    "import scipy.stats\n",
    "import matplotlib.pyplot as plt\n",
    "from numpy import array\n",
    "\n",
    "import seaborn as sns"
   ]
  },
  {
   "cell_type": "code",
   "execution_count": 3,
   "metadata": {
    "collapsed": false
   },
   "outputs": [],
   "source": [
    "data = pd.io.stata.read_stata('data/us_job_market_discrimination.dta')"
   ]
  },
  {
   "cell_type": "markdown",
   "metadata": {},
   "source": [
    "Answer 1A) The questions is whether race simply ** has ** an effect. It doesn't mention whether it is looking for a negative or positive effect. Because of this, and because the sample size is large, the appropriate test for this is a two tailed test with z-statistics. \n",
    "\n",
    "Answer 1B) The central limit theorem does apply because as we approach taking an infinite amount of means of random samples selected from the sample of resumes, the distribution looks more and more normal."
   ]
  },
  {
   "cell_type": "markdown",
   "metadata": {},
   "source": [
    "### Get mean, standard deviation, and size of resume sample"
   ]
  },
  {
   "cell_type": "code",
   "execution_count": 32,
   "metadata": {
    "collapsed": false
   },
   "outputs": [],
   "source": [
    "black = data[data.race == 'b']\n",
    "bmean = black.call.mean()\n",
    "bstd = black.call.std()\n",
    "\n",
    "white = data[data.race == 'w']\n",
    "wmean = white.call.mean()\n",
    "wstd = white.call.std()"
   ]
  },
  {
   "cell_type": "markdown",
   "metadata": {},
   "source": [
    "### Establish Null Hypothesis, and Start Getting Statistics of Black and White Resume Samples.\n",
    "\n",
    "Answer 2) \n",
    "\n",
    "Null Hypothesis = Race ** DOES NOT ** have an effect on whether you will get a call back or not.\n",
    "\n",
    "Alternate Hypothesis = Race ** DOES ** have an effect on whether you will get a call back or not."
   ]
  },
  {
   "cell_type": "code",
   "execution_count": 33,
   "metadata": {
    "collapsed": false
   },
   "outputs": [
    {
     "data": {
      "image/png": "[encoded data removed]",
      "text/plain": [
       "<matplotlib.figure.Figure at 0x1160749b0>"
      ]
     },
     "metadata": {},
     "output_type": "display_data"
    }
   ],
   "source": [
    "pop_black_std = bstd/black['call'].count()**.5\n",
    "pop_white_std = wstd/white['call'].count()**.5\n",
    "\n",
    "white_dist = scipy.stats.norm(wmean, pop_white_std)\n",
    "black_dist = scipy.stats.norm(bmean, pop_black_std)\n",
    "\n",
    "def eval_pdf(rv, num=4):\n",
    "    mean, std = rv.mean(), rv.std()\n",
    "    xs = np.linspace(mean - num*std, mean + num*std, 100)\n",
    "    ys = rv.pdf(xs)\n",
    "    return xs, ys\n",
    "\n",
    "wxs, wys = eval_pdf(white_dist)\n",
    "plt.plot(wxs, wys, label='male', linewidth=4, color='green')\n",
    "plt.axvline(wxs.mean(), color='r', linestyle='dashed', linewidth=2)\n",
    "\n",
    "bxs, bys = eval_pdf(black_dist)\n",
    "plt.plot(bxs, bys, label='female', linewidth=4, color='blue')\n",
    "plt.title('Black and White Callback Distribution')\n",
    "plt.axvline(bxs.mean(), color='r', linestyle='dashed', linewidth=2)\n",
    "plt.axis([0.04, .125, 0, 100])\n",
    "plt.show()"
   ]
  },
  {
   "cell_type": "code",
   "execution_count": 34,
   "metadata": {
    "collapsed": false
   },
   "outputs": [
    {
     "data": {
      "text/plain": [
       "2.9085728008246483"
      ]
     },
     "execution_count": 34,
     "metadata": {},
     "output_type": "execute_result"
    }
   ],
   "source": [
    "sample_mean_diff = wmean - bmean\n",
    "null_hyp_pop_std = (wstd**.5 / white.call.count()**.5)\n",
    "\n",
    "zscore_from_mean = sample_mean_diff/null_hyp_pop_std\n",
    "zscore_from_mean"
   ]
  },
  {
   "cell_type": "markdown",
   "metadata": {},
   "source": [
    "The number of standard deviations away from the mean we have to be to get the black sample mean in a distribution of the population assuming that the null hypothesis is true is 2.9. Since we know that the critical z-value of 95% significance is 1.96 standard deviations away from the mean by looking at a Z-Table, than we know that the probability that getting the black sample mean of the calls returned assuming the null hypothesis is true, is not only less than 5%, but also less than 1%. This means that we should reject the null hypothesis, and come to the conclusion that race ** DOES ** in fact have an effect on whether you will get a call back or not."
   ]
  },
  {
   "cell_type": "markdown",
   "metadata": {},
   "source": [
    "### Find confidence interval of population, assuming null hypothesis is true"
   ]
  },
  {
   "cell_type": "code",
   "execution_count": 36,
   "metadata": {
    "collapsed": false
   },
   "outputs": [
    {
     "data": {
      "text/plain": [
       "'0.07492326015209413 - 0.11809522098327421'"
      ]
     },
     "execution_count": 36,
     "metadata": {},
     "output_type": "execute_result"
    }
   ],
   "source": [
    "z = 1.96\n",
    "conf_int = '{} - {}'.format(wmean - (null_hyp_pop_std*z), wmean + (null_hyp_pop_std*z))\n",
    "conf_int"
   ]
  },
  {
   "cell_type": "markdown",
   "metadata": {},
   "source": [
    "Answer 3A) Confidence Interval = We can be confident that 95% of time we select a random sample fom the true population of means, given our null hypothesis is true, it will be between .074, and .118\n",
    "\n",
    "Answer 3B) Margin of Error = Our margin of error is about +/- 2.2 percent\n",
    "\n",
    "Answer 3C) P-Value = The p-value for our null hypothesis is .018%.\n",
    "\n",
    "Answer 4) Story = If our hypothesis is correct that race, in this case that how black or white sounding your name is on your resume is, has no effect on how likely you will get a call back or not, the probability that getting the average of calls returned for black sounding resumes is less than 1 percent. Given this, we can strongly reject our null  hypothesis, and conclude that race does in fact have an effect on whether or not you will get a call back or not.\n",
    "\n",
    "Answer 5) There would be no way of knowing this unless we checked the correlation between all of the features of the resume, and the target feature of callback success."
   ]
  },
  {
   "cell_type": "code",
   "execution_count": null,
   "metadata": {
    "collapsed": true
   },
   "outputs": [],
   "source": []
  }
 ],
 "metadata": {
  "kernelspec": {
   "display_name": "Python 3",
   "language": "python",
   "name": "python3"
  },
  "language_info": {
   "codemirror_mode": {
    "name": "ipython",
    "version": 3
   },
   "file_extension": ".py",
   "mimetype": "text/x-python",
   "name": "python",
   "nbconvert_exporter": "python",
   "pygments_lexer": "ipython3",
   "version": "3.6.0"
  }
 },
 "nbformat": 4,
 "nbformat_minor": 0
}
