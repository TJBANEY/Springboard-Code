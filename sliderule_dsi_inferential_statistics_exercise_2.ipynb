{
 "cells": [
  {
   "cell_type": "markdown",
   "metadata": {},
   "source": [
    "# Examining Racial Discrimination in the US Job Market\n",
    "\n",
    "### Background\n",
    "Racial discrimination continues to be pervasive in cultures throughout the world. Researchers examined the level of racial discrimination in the United States labor market by randomly assigning identical résumés to black-sounding or white-sounding names and observing the impact on requests for interviews from employers.\n",
    "\n",
    "### Data\n",
    "In the dataset provided, each row represents a resume. The 'race' column has two values, 'b' and 'w', indicating black-sounding and white-sounding. The column 'call' has two values, 1 and 0, indicating whether the resume received a call from employers or not.\n",
    "\n",
    "Note that the 'b' and 'w' values in race are assigned randomly to the resumes when presented to the employer."
   ]
  },
  {
   "cell_type": "markdown",
   "metadata": {},
   "source": [
    "<div class=\"span5 alert alert-info\">\n",
    "### Exercises\n",
    "You will perform a statistical analysis to establish whether race has a significant impact on the rate of callbacks for resumes.\n",
    "\n",
    "Answer the following questions **in this notebook below and submit to your Github account**. \n",
    "\n",
    "   1. What test is appropriate for this problem? Does CLT apply?\n",
    "   2. What are the null and alternate hypotheses?\n",
    "   3. Compute margin of error, confidence interval, and p-value.\n",
    "   4. Write a story describing the statistical significance in the context or the original problem.\n",
    "   5. Does your analysis mean that race/name is the most important factor in callback success? Why or why not? If not, how would you amend your analysis?\n",
    "\n",
    "You can include written notes in notebook cells using Markdown: \n",
    "   - In the control panel at the top, choose Cell > Cell Type > Markdown\n",
    "   - Markdown syntax: http://nestacms.com/docs/creating-content/markdown-cheat-sheet\n",
    "\n",
    "\n",
    "#### Resources\n",
    "+ Experiment information and data source: http://www.povertyactionlab.org/evaluation/discrimination-job-market-united-states\n",
    "+ Scipy statistical methods: http://docs.scipy.org/doc/scipy/reference/stats.html \n",
    "+ Markdown syntax: http://nestacms.com/docs/creating-content/markdown-cheat-sheet\n",
    "</div>\n",
    "****"
   ]
  },
  {
   "cell_type": "code",
   "execution_count": null,
   "metadata": {
    "collapsed": true
   },
   "outputs": [],
   "source": [
    "from __future__ import print_function, division\n",
    "\n",
    "import pandas as pd\n",
    "import numpy as np\n",
    "from scipy import stats\n",
    "import scipy.stats\n",
    "import matplotlib.pyplot as plt\n",
    "from numpy import array\n",
    "\n",
    "import seaborn as sns"
   ]
  },
  {
   "cell_type": "code",
   "execution_count": null,
   "metadata": {
    "collapsed": false
   },
   "outputs": [],
   "source": [
    "data = pd.io.stata.read_stata('data/us_job_market_discrimination.dta')"
   ]
  },
  {
   "cell_type": "code",
   "execution_count": null,
   "metadata": {
    "collapsed": false
   },
   "outputs": [],
   "source": [
    "black = data[data.race == 'b']\n",
    "bmean = black.call.mean()\n",
    "bvar = black.call.var()"
   ]
  },
  {
   "cell_type": "code",
   "execution_count": null,
   "metadata": {
    "collapsed": false
   },
   "outputs": [],
   "source": [
    "white = data[data.race == 'w']\n",
    "wmean = white.call.mean()\n",
    "wvar = white.call.var()\n",
    "\n",
    "wmean"
   ]
  },
  {
   "cell_type": "code",
   "execution_count": null,
   "metadata": {
    "collapsed": false
   },
   "outputs": [],
   "source": [
    "white_dist = scipy.stats.norm(wmean, wstd)\n",
    "\n",
    "def eval_pdf(rv, num=4):\n",
    "    mean, std = rv.mean(), rv.std()\n",
    "    xs = np.linspace(mean - num*std, mean + num*std, 100)\n",
    "    ys = rv.pdf(xs)\n",
    "    return xs, ys\n",
    "\n",
    "xs, ys = eval_pdf(white_dist)\n",
    "plt.plot(xs, ys, label='call', linewidth=4)\n",
    "plt.axvline(white_dist.mean(), color='b', linestyle='dashed', linewidth=2)\n",
    "plt.axvline(white_dist.mean() - white_dist.std(), color='r', linestyle='dashed', linewidth=2)\n",
    "plt.axvline(white_dist.mean() + white_dist.std(), color='r', linestyle='dashed', linewidth=2)\n",
    "plt.axvline(white_dist.mean() - (white_dist.std() * 2), color='g', linestyle='dashed', linewidth=2)\n",
    "plt.axvline(white_dist.mean() + (white_dist.std() * 2), color='g', linestyle='dashed', linewidth=2)\n",
    "plt.axvline(white_dist.mean() - (white_dist.std() * 3), color='y', linestyle='dashed', linewidth=2)\n",
    "plt.axvline(white_dist.mean() + (white_dist.std() * 3), color='y', linestyle='dashed', linewidth=2)\n",
    "plt.title('Null Hypothesis Population Distribution')\n",
    "plt.show()\n",
    "\n",
    "'{} - {}'.format(wmean, wstd)"
   ]
  },
  {
   "cell_type": "markdown",
   "metadata": {},
   "source": [
    "### 1.Get standard deviation of population sample assuming null hypothesis is true. Which is the square root of the white resume sample standard deviation divided by the square root of the sample size.\n",
    "### 2. Figure out how many standard deviations away from the mean we need to go to get the mean of the black resume sample."
   ]
  },
  {
   "cell_type": "code",
   "execution_count": null,
   "metadata": {
    "collapsed": false
   },
   "outputs": [],
   "source": [
    "sample_mean_diff = wmean - bmean\n",
    "null_hyp_pop_std = (wstd**.5 / white.call.count()**.5)\n",
    "\n",
    "zscore_from_mean = sample_mean_diff/null_hyp_pop_std\n",
    "zscore_from_mean"
   ]
  },
  {
   "cell_type": "markdown",
   "metadata": {},
   "source": [
    "### The number of standard deviations away from the mean we have to be to get the black sample mean in a distribution of the population assuming that the null hypothesis is true is 2.9. Since we know that the critical z-value of 95% significance is 1.96 standard deviations away from the mean by looking at a Z-Table, than we know that the probability that getting the black sample mean of the calls returned assuming the null hypothesis is true, is not only less than 5%, but also less than 1%. This means that we should reject the null hypothesis, and come to the conclusion that race * DOES * in fact have an effect on whether you will get a call back or not."
   ]
  },
  {
   "cell_type": "markdown",
   "metadata": {},
   "source": [
    "### To get the true population, we divide the standard deviation of the white sample by the square root of the sample size. The true population \"assuming our null hypothesis is true\" is .005, and our 95% confidence interval is  .085 to .108"
   ]
  },
  {
   "cell_type": "code",
   "execution_count": null,
   "metadata": {
    "collapsed": false
   },
   "outputs": [],
   "source": [
    "z = 1.96\n",
    "conf_int = '{} - {}'.format(wmean - (null_hyp_pop_std*z), wmean + (null_hyp_pop_std*z))\n",
    "conf_int"
   ]
  },
  {
   "cell_type": "markdown",
   "metadata": {},
   "source": [
    "# Answers\n",
    "* ### 1) The questions is whether race simply 'has' an effect. It doesn't mention whether it is looking for a negative or positive effect. Because of this the appropriate test for this is a two tailed test. \n",
    "    * #### The central limit theorem does apply because as we approach taking an infinite amount of means of random samples selected from the sample of resumes, the distribution looks more and more normal.\n",
    "* ### 2A) Null Hypothesis = Race has no effect on the probability of getting a call back or not.\n",
    "* ### 2B) Alt. Hypothesis = Race does have an effect on the probability of getting a call back or not.\n",
    "* ### 3A) Confidence Interval = We can be confident that 95% of time we select a random sample fom the true population of means, given our null hypothesis is true, it will be between .074, and .118\n",
    "* ### 3B) Margin of Error = Our margin of error is about 16.6 percent\n",
    "* ### 3C) P-Value = The p-value for our null hypothesis is .018%\n",
    "* ### 4) Story = If our hypothesis is correct that race, in this case that how black or white sounding your name is on your resume is, has no effect on how likely you will get a call back or not, the probability that getting the average of calls returned for black sounding resumes is less than 1 percent. Given this, we can strongly reject our null  hypothesis, and conclude that race does in fact have an effect on whether or not you will get a call back or not.\n",
    "* ### 5) There would be no way of knowing this unless we checked the correlation between all of the features of the resume, and the target feature of callback success."
   ]
  },
  {
   "cell_type": "markdown",
   "metadata": {},
   "source": [
    "## ========================================================\n",
    "### When to get the std of the true population by getting std of sample divided by sqrt of sample size, and when to get the sqrt of the product of a true or false probablity divided by the sqrt of the saple size ?\n",
    "## ========================================================"
   ]
  },
  {
   "cell_type": "code",
   "execution_count": null,
   "metadata": {
    "collapsed": true
   },
   "outputs": [],
   "source": []
  }
 ],
 "metadata": {
  "kernelspec": {
   "display_name": "Python 3",
   "language": "python",
   "name": "python3"
  },
  "language_info": {
   "codemirror_mode": {
    "name": "ipython",
    "version": 3
   },
   "file_extension": ".py",
   "mimetype": "text/x-python",
   "name": "python",
   "nbconvert_exporter": "python",
   "pygments_lexer": "ipython3",
   "version": "3.6.0"
  }
 },
 "nbformat": 4,
 "nbformat_minor": 0
}
