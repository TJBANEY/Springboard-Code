{
 "cells": [
  {
   "cell_type": "code",
   "execution_count": 2,
   "metadata": {
    "collapsed": false
   },
   "outputs": [],
   "source": [
    "import pandas as pd"
   ]
  },
  {
   "cell_type": "code",
   "execution_count": 3,
   "metadata": {
    "collapsed": false
   },
   "outputs": [
    {
     "name": "stdout",
     "output_type": "stream",
     "text": [
      "Bokeh.ipynb                        hyp_testing.png\r\n",
      "Data_viz.ipynb                     \u001b[34minfer_statistics\u001b[m\u001b[m/\r\n",
      "Exploratory Data Analysis.ipynb    \u001b[34mleo_afremov_photos\u001b[m\u001b[m/\r\n",
      "Human Body Temp EDA.ipynb          \u001b[31mmeteorite-landings.csv\u001b[m\u001b[m*\r\n",
      "Hypothesis Testing.ipynb           michael.py\r\n",
      "Iris.csv                           mona-lisa.jpg\r\n",
      "Regression.ipynb                   mona2.png\r\n",
      "Titanic.py                         p-score-1.png\r\n",
      "Untitled.ipynb                     p-score-2.png\r\n",
      "Untitled1.ipynb                    p-score-3.png\r\n",
      "\u001b[31madult.csv\u001b[m\u001b[m*                         paintings.py\r\n",
      "blue_lights.jpg                    purple.jpg\r\n",
      "census_nyc.sqlite                  \u001b[34mracial_disc\u001b[m\u001b[m/\r\n",
      "\u001b[34mcsv_files\u001b[m\u001b[m/                         survey.py\r\n",
      "database.py                        timessquare.jpg\r\n",
      "\u001b[31men.openfoodfacts.org.products.tsv\u001b[m\u001b[m* titanic_test.csv\r\n",
      "famous-paintings.csv               titanic_test_w_survived.csv\r\n",
      "geckodriver.log                    titanic_train.csv\r\n",
      "\u001b[34mhospital_readmit\u001b[m\u001b[m/                  titanic_w_survived.csv\r\n",
      "\u001b[34mhuman_temp\u001b[m\u001b[m/\r\n"
     ]
    }
   ],
   "source": [
    "ls"
   ]
  },
  {
   "cell_type": "code",
   "execution_count": null,
   "metadata": {
    "collapsed": true
   },
   "outputs": [],
   "source": []
  }
 ],
 "metadata": {
  "kernelspec": {
   "display_name": "Python 3",
   "language": "python",
   "name": "python3"
  },
  "language_info": {
   "codemirror_mode": {
    "name": "ipython",
    "version": 3
   },
   "file_extension": ".py",
   "mimetype": "text/x-python",
   "name": "python",
   "nbconvert_exporter": "python",
   "pygments_lexer": "ipython3",
   "version": "3.6.0"
  }
 },
 "nbformat": 4,
 "nbformat_minor": 2
}
