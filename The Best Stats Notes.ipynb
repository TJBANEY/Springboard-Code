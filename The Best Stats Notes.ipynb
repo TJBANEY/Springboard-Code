{
 "cells": [
  {
   "cell_type": "markdown",
   "metadata": {},
   "source": [
    "# This will be a super easy to understand combination of notes from all of the Springboard and Khan Academy stats lessons."
   ]
  },
  {
   "cell_type": "code",
   "execution_count": 5,
   "metadata": {
    "collapsed": true
   },
   "outputs": [],
   "source": [
    "from __future__ import print_function, division\n",
    "\n",
    "import pandas as pd\n",
    "import scipy.stats\n",
    "import matplotlib.pyplot as plt\n",
    "import numpy as np\n",
    "\n",
    "sample = pd.read_csv('data/human_body_temperature.csv')"
   ]
  },
  {
   "cell_type": "markdown",
   "metadata": {},
   "source": [
    "# Confidence Interval\n",
    "* ### A confidence interval for a proportion estimates what percent of a population fits some category based on results from a sample. For example, if 70 adults own a cell phone in a random sample of 100 adults, we can be fairly confident that the true percentage in the population is somewhere between 61% and 79%\n",
    "    * #### Things we will need: Sample Mean, Sample Variance, Sample Standard Deviation\n",
    "    * #### Sample Variance = 'Weighted sum of squared residuals, and divide by 1 - sample mean   142(1-.568)^2 + 108(0-.568)^2 / 250 - 1  =  .246\n",
    "    * #### Standard deviation of a sample is equal to the standard deviation of the true population divided by the square root of the number of observations in the sample\n",
    "    * #### Since we don't have the standard deviation of the true population, than we will have to use the standard deviation of the sample.\n",
    "    * #### 99% Confidence = How many standard deviations away from the mean do we have to be, so there is a 99% chance that any random observation picked from the distribution will be in that range ?\n",
    "    * #### We than have to look at a Z-Table, we have to divide the target confidence by two (Since half the range will be on both ends), than take that half, and add .5 too it ( Since the Z-Score for some reason starts all the way to the very left. ). UNLESS the Z-Table is formatted differently, than you might just need to divide it by two.\n",
    "    * #### For the example below with the human body temperatures, we can say that we are confident there is a 99% chance that the population mean is within 98.08  -  98.41'\n",
    "    \n",
    "    <img src='data/Screen Shot 2017-06-20 at 12.39.11 AM.png'>"
   ]
  },
  {
   "cell_type": "code",
   "execution_count": 46,
   "metadata": {
    "collapsed": false
   },
   "outputs": [
    {
     "data": {
      "text/plain": [
       "98.41513616467253"
      ]
     },
     "execution_count": 46,
     "metadata": {},
     "output_type": "execute_result"
    }
   ],
   "source": [
    "avg_temp = df.temperature.mean()\n",
    "temp_std = df.temperature.std()\n",
    "est_true_std = temp_std / 130**.5\n",
    "\n",
    "# How many standard deviations away from the mean do we have to be to be 99% confident a \n",
    "# random choice will land there ?\n",
    "\n",
    "z_table = (.99 / 2)\n",
    "# z_table score is 2.58 standard deviations away from the mean\n",
    "temp_std * 2.58\n",
    "avg_temp - (est_true_std * 2.58)\n",
    "avg_temp + (est_true_std * 2.58)\n",
    "# 98.08 -  98.41\n",
    "# sample.sort_values('temperature', ascending=False).head(1)\n",
    "# sample.sort_values('temperature', ascending=True).head(1)"
   ]
  },
  {
   "cell_type": "markdown",
   "metadata": {},
   "source": [
    "# Margin of Error\n",
    "* ### The range above or below for the confidence interval. For example in the above there is a 99% chance that the population mean is within 98.08 - 98.41, that means 1.8 above or below the mean, or 1.8%, so the margin of error is .17%"
   ]
  },
  {
   "cell_type": "markdown",
   "metadata": {},
   "source": [
    "# Working Backwards (Getting the percent confidence when given the confidence interval, mean, and sample standard deviation)\n",
    "* You sample 36 apples from your farm's harvest of over 200,000 apples. The mean weight of the sample is 112 grams (with a 40 gram sample standard deviation). What is the probability that the mean weight of all 200,000 apples is within 100 and 124 grams\n",
    "* This can be re-worded as ** What is the probability that the true population mean is within 12 of the sample mean, 112 ? **  OR  ** What is the probability that the sample mean is within 12 of the sampling distribution mean ? **\n",
    "* You first have to get the standard deviation of the sampling distribution, (true standard deviation divided by the square root of the size of the sample). Lets say in this case its 6.67, since we are looking for 12 away, and are trying to get the number of standard deviations, we will divide 12 by 6.67, which gives us 1.8\n",
    "* ** What is the probability that our one sample mean is within 1.8 standard deviations of our actual sampling distribution mean ? **\n",
    "* Again, we look at the Z-Table with 1.8 which gives us .9641, but we have to subtract. We than subtract .5, which gives us .4641, and than we multiply that by 2, which finally gives us .9282\n",
    "# 92.82% Chance that the actual mean is within 12 of the sample mean OR that we are 92.82% confident that the actual mean is within 100 and 124 grams !!"
   ]
  },
  {
   "cell_type": "markdown",
   "metadata": {},
   "source": [
    "# T-STATS\n",
    "* ### When dealing with samples that are very small, for example a sample of 7, the mean and standard deviation are not really good for getting the true populations mean and standard deviation with.\n",
    "* ### The best way to handle this is by using a T-Distribution, which is engineered so it gives a better estimate of confidence intervals, and all of that when you do have a small sample size ( Fatter Tails ).\n",
    "* ### We will also look up confidence intervals inside of T-Tables, instead of Z-Tables\n",
    "    * One sided will typically be for cumulative distributions\n",
    "    * Two sided is for normal distributions where we will be looking for a range divided by two sides around the mean.\n",
    "    * For a T-Table, you have to look for 'degrees of freedom' which is basically just the size of the sample minus 1.\n",
    "    * After getting z-score, we multiply it by the approximated standard deviation (standard deviation of small sample divided by the square root of the total number of samples)\n",
    "* ### T-Stat example = Confident 95% chance that the true population is between 90 and 98."
   ]
  },
  {
   "cell_type": "markdown",
   "metadata": {},
   "source": [
    "# Significance Test\n",
    "* ### Significance tests give us a formal process for using sample data to evaluate the likelihood of some claim about a population value. We calculate p-values to see how likely a sample result is to occur by random chance, and we use p-values to make conclusions about hypotheses.\n",
    "* ### Story Example\n",
    "4 Siblings pick names out of a bowl to see who has to do the dishes. One of the siblings, Bill, isn't chosen 3 nights in a row. What is the probability that this would happen. What is the probability that he wouldn't be chosen after 12 nights, 20 ?\n",
    "\n",
    "* 3 Nights in a row = 42% Likely \n",
    "* 12 Nights in a row = 3% Very Unlikely \n",
    "* 20 Nights in a row = .3% Amost Impossible"
   ]
  },
  {
   "cell_type": "markdown",
   "metadata": {},
   "source": [
    "<img src='data/hyp_testing.png'>"
   ]
  },
  {
   "cell_type": "markdown",
   "metadata": {},
   "source": [
    "## Idea Behind Hypothesis Testing\n",
    "* Don't know what the probability of cholestoral effect is.\n",
    "* governing body needs probability to be 99%.\n",
    "* Hypothesis that new cholesterol test is 99% accurate.\n",
    "* apply the test 100 times, and find that it is accurate 95/100 times\n",
    "    * Does the hypothesis make sense ?\n",
    "    * Whats the probability of getting 95% if test truly was 99% ?\n",
    "    * If you assume the hypothesis is true, the probability of the outcome we got is .3%\n",
    "    * Based on this, you have to reject hypothesis because probability of getting 95% if the hypothesis is true is very very small"
   ]
  },
  {
   "cell_type": "markdown",
   "metadata": {},
   "source": [
    "### Type 1 Error\n",
    "* Rejecting the null hypothesis even though it's true.\n",
    "* For example if we reject the null hypothesis because the p-value is below .5% there is a .5% chance that we made a Type 1 Error."
   ]
  },
  {
   "cell_type": "markdown",
   "metadata": {},
   "source": [
    "## Tests about a population proportion\n",
    "* These significance tests tell us if a sample offers convincing evidence that a population proportion is different from some hypothesized value.\n",
    "\n",
    "* Null hypothesis is that the hypothesis is not correct\n",
    "* Alternative hypothesis is that the hypothesis is correct\n",
    "\n",
    "## Story Example\n",
    "* We want to test the hypothesis that more than 30% of US households have internet access ( With a significance level of 5%). We collect a sample of 150 people, and find that 57 have internet access\n",
    "\n",
    "* 1) Assume Null Hypothesis is true\n",
    "* Null Hypothesis = Less than or equal to 30% of US households have internet\n",
    "* Alternative Hypothesis = More than 30% of US households have internet\n",
    "* 2) In that assumption, were going to have to pick a population mean, and were going to pick one so that it maximizes the probability of getting\n",
    "* 3) When we assume that the null hypothesis is true, were going to assume a population that maximizes the  probability of getting .38, which is the mean of the sample.\n",
    "* 4) The highest population mean thats within our null hypothesis that will maximize the probability of getting this is actually if we are right at 30%.\n",
    "* 5) 29%, 28, 27%, .... would have also been in our null hypothesis, but would have lessened the probability of getting .38 more, and more.\n",
    "* 6) After maximizing to 30%, if the probability of getting .38 is STILL under 5%, than we can definitely accept the alternative hypothesis.\n",
    "* 7) We create a Bernouli distribution with 30% as 1, and 70% as 0, so the mean ASSUMING our null hypothesis, is going to be .3\n",
    "* 8) Population standard deviation ASSUMING our null hypothesis is the square root of the percentage of the population that has internet access, .3, multiplied by the population that does not have internet access. 7 = √.3 * .7 = √.21\n",
    "* 9) Now we want to get the probability of getting a sample mean, from a sample of 150, of .38\n",
    "* 10) If you look at every possible combination of getting 150 households from the population will give us a distribution.\n",
    "* 11) If you 'N' is suitably large, than you can assume the distribution is going to be normal.\n",
    "* 12) Test for N being large => if (N * P) > 5 and (N * (1-P)) > 5 \n",
    "* 13) N = 150, P = .3, so 150 * .3 is about 45, so we can safely assume the distribution is normal.\n",
    "* 14) Mean of this new ** sample proportions normal distribution ** is the same as maximized population mean, .3\n",
    "* 15) Standard deviation of our new ** sample proportions distribution ** will be the square root of our population standard deviation divided by the square root of the number of samples we have. => √.21 / √150 => ** .037 **\n",
    "* 16) We have to calculate how many standard deviations away we are from the mean, and than figure out whether the probability of getting that z-statistic is more or less than 5%.\n",
    "* 17) To find out how many standard deviations away we are, we subtract the mean of maximized null hypothesis population from the mean of the sample, and divide that by the calculated standard deviation of the maximized population =>  (.38 - .3)/.037 => ** 2.14 standard deviations **\n",
    "* 18) Since it's a normal distribution, we can look at a Z-Table\n",
    "* 19) We need to find a critical Z-Score so that the probability of getting a Z-Score higher than that is 5%, which will be validation to reject null hypothesis.\n",
    "\n",
    "<img src=\"data/dist_z_score.png\">\n",
    "\n",
    "20) This is a ** One Tailed Test ** because we only care about one side of the test.\n",
    "21) Looking at the Z-Table for 95%, the closest we can find is 1.65, our critical Z-Score is 1.65.\n",
    "22) Since the number of standard deviations away from the sample mean was found to be 2.14, and since 2.14 is greater than 1.65, than the probability is less than 5% and we can ** REJECT The Null Hypothesis **\n",
    "23) Another way to say this is ** \"The probability that the sample mean being higher than 30% being completely by chance is like 2% so its a safe bet that most americans do have internet access.\""
   ]
  },
  {
   "cell_type": "markdown",
   "metadata": {},
   "source": [
    "# One sample significance test **Continued*\n",
    "### For this the chance that the difference of 1.05 seconds from 1.2 seconds is that extreme given the null hypothesis is .3% which is not likely at all, so we can say that the drug ** DOES HAVE AN EFFECT **"
   ]
  },
  {
   "cell_type": "markdown",
   "metadata": {},
   "source": [
    "<img src=\"data/sig_test_example1.png\">"
   ]
  },
  {
   "cell_type": "markdown",
   "metadata": {},
   "source": [
    "# One Tailed vs. Two Tailed Tests\n",
    "* In the last tests, we only wanted to know if there was an effect. We didn't specify whether it was a negative or postivie effect. This is a ** TWO TAILED TESTS **\n",
    "\n",
    "<img src=\"data/sig_test_example2.png\">"
   ]
  },
  {
   "cell_type": "markdown",
   "metadata": {},
   "source": [
    "# Z-Stats vs. T-Stats again\n",
    "https://www.khanacademy.org/math/statistics-probability/significance-tests-one-sample/tests-about-population-mean/v/z-statistics-vs-t-statistics\n",
    "\n",
    "<img src=\"data/sig_test_example3.png\">"
   ]
  },
  {
   "cell_type": "markdown",
   "metadata": {},
   "source": [
    "# Comparing Two Proportions \"ex. Male and Female\"\n",
    "* ### Learn how to apply what you know about confidence intervals and significance tests to situations that involve comparing two samples to see if there is a significant difference between the two populations."
   ]
  },
  {
   "cell_type": "markdown",
   "metadata": {},
   "source": [
    "## Men vs. Women voting for a political candidate\n",
    "1. We want to get a 95% confidence interval that if we select a random sample from the TRUE DISTRIBUTION of the TRUE FEMALE and MALE DISTRUBTIONS, that it will be within some D distance around the difference of the sample means. (In this case it would be some distance, D, within .051)  ** THE DIFFERENCE OF THE MALE AND FEMALE DISTRIBUTIONS **\n",
    "2. Sample of Men and Women is each 1000.\n",
    "    * 642 Men out of a 1000 will vote yes, Mean = .642\n",
    "    * 591 Women out of a 1000 will vote yes, Mean = .591\n",
    "3. Create a sampling distribution of the sample means for the Men and Women\n",
    "\n",
    "<img src=\"data/sig_test_example_4.png\">\n",
    "\n",
    "** QUICK NOTES **\n",
    "    * Mean of sampling distribution of sample means, SDSM, is the same as the mean of the true population.\n",
    "    * Variance of the SDSM, by ** The Central Limit Theorem ** is the sample variance divided by sample size P1(1-P!)/1000\n",
    "\n",
    "4. Were going to think about the sampling distribution for the ** difference ** of the sample proportions, SDIFF\n",
    "5. Mean of SDIFF is the mean of the Men's SDSM minus the mean of the Women's SDSM.\n",
    "6. Standard deviation is the ** Square root of the * \"sum of SDSM1 variance, and SDSM2 variance\" * **\n",
    "7. Mean of SDIFF is .051\n",
    "8. After looking at the Z-Table for what would be 95%, divided by 2 cause were starting from the middle, and than actually tacking on .5 because the Z-Table starts all the way from the left, we find a 95% confidence would be 1.96 standard deviations away from the mean.\n",
    "9. After solving for 6, which comes out to 0.022, we multiply that by the standard deviations, 1.96  =>  .043\n",
    "10. So we are confident that there is a 95% chance that the difference of the true male and female populations is between .008, and .094. \n",
    "\n",
    "<img src='data/sig_test_example5.png'>"
   ]
  },
  {
   "cell_type": "markdown",
   "metadata": {},
   "source": [
    "## Men vs. Women Null Hypothesis\n",
    "* Null hypothesis = There is not difference between men, and women (P1 - P2 = 0)\n",
    "* Alternative hypothesis = There is a difference between men, and women (P1 - P2 != 0)\n",
    "* We will do the test with a significance test of 5%\n",
    "\n",
    "* We will look for the probability of the difference between men and women, given the null hypothesis. If it is below 5%, than we will reject the null hypothesis.\n",
    "\n",
    "* If we assume the null hypothesis, the mean of the sampling distribution of sample difference between 1000 males, and 1000 females will be 0.\n",
    "* Assuming that the mean is zero, what is the probability of getting .051.\n",
    "* We will do this by getting a z-score for how far away .051 is from the mean.\n",
    "* Subtract .051, from the assumed mean 0, and divide that by the standard deviation of the sampling distribution of ** Null Hypothesis Distribution, the one with a mean of zero **. See number 6 above, but redo the calculation with P1, and P2 as zero\n",
    "\n",
    "<img src='data/sig_test_example7.png'>\n",
    "\n",
    "* Estimate P with sample of 2000 people, men and women combined ** since they're equal we can do this **. =>  (642 + 591)/2000 = .6165\n",
    "* Standard deviation comes out to .0217, soooo going back to getting the Z-Score .051/.0217 => 2.34.\n",
    "* Looking at the Z-Score for 97.5%, for our 5% significance level, ** 2.5% on each tail **. we get 1.96, since 2.34 is higher than 1.96, it is more extreme, and less likely than 5%. So we can ** REJECT THE NULL HYPOTHESIS **"
   ]
  },
  {
   "cell_type": "markdown",
   "metadata": {},
   "source": [
    "<img src='data/goldfish_dif_2_dist.png'>\n",
    "\n",
    "## As seen above, the likelihood of there being a 10 goldfish difference on either side of the distribution is highly unlikely, 2 out of 150, about 1.4% which tells us the expirement WAS significant."
   ]
  },
  {
   "cell_type": "markdown",
   "metadata": {},
   "source": [
    "# Chi Squares\n",
    "* ### A chi-square goodness-of-fit test examines how well a sample of categorical data fits a hypothesized distribution. For example, take a sample of people and ask them what day of the week they were born. You probably won't get the same number of people born on each day, but does that offer strong evidence that the distribution isn't even for everyone?\n",
    "\n",
    "* ### Random Independent Standard Normally Distributed Variable X is a normal random variable with a mean of 0, and a variance of 1\n",
    "    * When taking an instantiation of the variable, we are sampling from a normalized distribution\n",
    "    \n",
    "* New random variable Q = random variable X1^2\n",
    "* Distribution of Q, is going to be an example of the chi-square distribution\n",
    "* The Chi-Square, or Chi-Square distribution is a set of distrubtions depending on how many sums you have\n",
    "* Since were only taking the sum of one independent normally distributed variable, we say that it has only '1 Degree of Freedom'\n",
    "* Q2 = X1^2 + X2^2\n",
    "* Q2 is a chi-squared distributed random variable with '2 Degrees of Freedom'\n",
    "* Since the random variables are being squared, you can never have a value below zero.\n",
    "\n",
    "### This is useful for measuring error from an expected value.\n",
    "### If you take the total error, you can figure out the probability of getting that total error if you assume some parameters.\n",
    "\n",
    "### Q2 = X1^2 + X2^2\n",
    "* What is the probability of Q2 being greater than 2.41. If you look at Chi-Square chart, looking for '2 degrees of freedom' on the very left, you will find that the probability of Q2 being grater than 2.41 is 30%\n",
    "\n",
    "\n",
    "# CHI-SQUARE EXAMPLE\n",
    "\n",
    "<img src=\"data/chi-square1.png\">\n",
    "<img src=\"data/chi-square2.png\">"
   ]
  },
  {
   "cell_type": "code",
   "execution_count": null,
   "metadata": {
    "collapsed": true
   },
   "outputs": [],
   "source": []
  },
  {
   "cell_type": "code",
   "execution_count": null,
   "metadata": {
    "collapsed": true
   },
   "outputs": [],
   "source": []
  }
 ],
 "metadata": {
  "kernelspec": {
   "display_name": "Python 3",
   "language": "python",
   "name": "python3"
  },
  "language_info": {
   "codemirror_mode": {
    "name": "ipython",
    "version": 3
   },
   "file_extension": ".py",
   "mimetype": "text/x-python",
   "name": "python",
   "nbconvert_exporter": "python",
   "pygments_lexer": "ipython3",
   "version": "3.6.0"
  }
 },
 "nbformat": 4,
 "nbformat_minor": 2
}
