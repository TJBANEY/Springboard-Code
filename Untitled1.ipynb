{
 "cells": [
  {
   "cell_type": "markdown",
   "metadata": {},
   "source": [
    "# Logistic Regression"
   ]
  },
  {
   "cell_type": "code",
   "execution_count": 79,
   "metadata": {
    "collapsed": false
   },
   "outputs": [
    {
     "name": "stdout",
     "output_type": "stream",
     "text": [
      "Optimization terminated successfully.\n",
      "         Current function value: 0.606893\n",
      "         Iterations 8\n",
      "                          MNLogit Regression Results                          \n",
      "==============================================================================\n",
      "Dep. Variable:                Species   No. Observations:                  150\n",
      "Model:                        MNLogit   Df Residuals:                      146\n",
      "Method:                           MLE   Df Model:                            2\n",
      "Date:                Fri, 07 Jul 2017   Pseudo R-squ.:                  0.4476\n",
      "Time:                        01:21:43   Log-Likelihood:                -91.034\n",
      "converged:                       True   LL-Null:                       -164.79\n",
      "                                        LLR p-value:                 9.276e-33\n",
      "=====================================================================================\n",
      "Species=versicolor       coef    std err          z      P>|z|      [0.025      0.975]\n",
      "--------------------------------------------------------------------------------------\n",
      "Sepal.Length           4.8157      0.907      5.310      0.000       3.038       6.593\n",
      "const                -26.0819      4.889     -5.335      0.000     -35.665     -16.499\n",
      "--------------------------------------------------------------------------------------\n",
      "Species=virginica       coef    std err          z      P>|z|      [0.025      0.975]\n",
      "-------------------------------------------------------------------------------------\n",
      "Sepal.Length          6.8464      1.022      6.698      0.000       4.843       8.850\n",
      "const               -38.7590      5.691     -6.811      0.000     -49.913     -27.605\n",
      "=====================================================================================\n"
     ]
    }
   ],
   "source": [
    "from sklearn.datasets import load_iris\n",
    "from sklearn.linear_model import LogisticRegression\n",
    "from sklearn.multiclass import OneVsRestClassifier\n",
    "import statsmodels.api as st\n",
    "import pandas as pd\n",
    "iris = st.datasets.get_rdataset('iris', 'datasets')\n",
    "iris2 = pd.read_csv('../Iris.csv')\n",
    "\n",
    "y = iris.data.Species\n",
    "x = iris.data.ix[:, :1]\n",
    "\n",
    "constant = [1 for i in range(150)] \n",
    "iris2['const'] = constant\n",
    "x2 = iris2[['SepalLengthCm', 'SepalWidthCm', 'const']]\n",
    "\n",
    "# Why add constant ?\n",
    "x = st.add_constant(x, prepend = False)\n",
    "x.const.shape\n",
    "x.shape\n",
    "# 150\n",
    "# 150, 2\n",
    "\n",
    "y.shape\n",
    "# 150\n",
    "# 150,\n",
    "\n",
    "# Specify the Model\n",
    "mdl = st.MNLogit(y, x)\n",
    "mdl_fit = mdl.fit()\n",
    "\n",
    "# Print Results\n",
    "print(mdl_fit.summary())"
   ]
  },
  {
   "cell_type": "code",
   "execution_count": null,
   "metadata": {
    "collapsed": true
   },
   "outputs": [],
   "source": []
  }
 ],
 "metadata": {
  "kernelspec": {
   "display_name": "Python 3",
   "language": "python",
   "name": "python3"
  },
  "language_info": {
   "codemirror_mode": {
    "name": "ipython",
    "version": 3
   },
   "file_extension": ".py",
   "mimetype": "text/x-python",
   "name": "python",
   "nbconvert_exporter": "python",
   "pygments_lexer": "ipython3",
   "version": "3.6.0"
  }
 },
 "nbformat": 4,
 "nbformat_minor": 2
}
